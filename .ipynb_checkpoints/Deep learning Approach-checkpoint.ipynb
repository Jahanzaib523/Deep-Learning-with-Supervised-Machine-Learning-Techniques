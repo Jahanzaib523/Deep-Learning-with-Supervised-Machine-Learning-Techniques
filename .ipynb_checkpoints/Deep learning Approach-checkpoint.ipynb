{
 "cells": [
  {
   "cell_type": "markdown",
   "metadata": {},
   "source": [
    "## Import Libraries"
   ]
  },
  {
   "cell_type": "code",
   "execution_count": 17,
   "metadata": {},
   "outputs": [],
   "source": [
    "from keras.preprocessing import image\n",
    "from keras.preprocessing.image import ImageDataGenerator\n",
    "from keras import layers, models, optimizers \n",
    "import matplotlib.pyplot as plt\n",
    "import numpy as np\n",
    "import os\n",
    "import warnings\n",
    "warnings.filterwarnings('ignore')"
   ]
  },
  {
   "cell_type": "markdown",
   "metadata": {},
   "source": [
    "# Classification on Fei Face Dataset (Accuracy Evaluation)"
   ]
  },
  {
   "cell_type": "markdown",
   "metadata": {},
   "source": [
    "## Reading Filenames\n",
    "* os.getcwd() function will get the current working directory"
   ]
  },
  {
   "cell_type": "code",
   "execution_count": 18,
   "metadata": {},
   "outputs": [],
   "source": [
    "train_dir = os.getcwd() + \"\\\\good_and_bad_moods\\\\brazil\\\\brazil_dataset\\\\train\"\n",
    "validation_dir = os.getcwd() + \"\\\\good_and_bad_moods\\\\test\""
   ]
  },
  {
   "cell_type": "markdown",
   "metadata": {},
   "source": [
    "## Convolutional Neural Network Model\n",
    "* There are 3 convolutional layers with Max pooling layers to extract major features from the image.\n",
    "* Dropout layers have been added to avoid overfitting.\n",
    "* Fatten layer has been added to convert the image into a (n x 1) tensor to feed into a fully connected layer.\n",
    "* Model is being compiled in the end.\n",
    "* The loss function has been set to binary cross entropy as it generally results in better training on binary classes."
   ]
  },
  {
   "cell_type": "code",
   "execution_count": 19,
   "metadata": {},
   "outputs": [],
   "source": [
    "model = models.Sequential()\n",
    "\n",
    "model.add(layers.Conv2D(32, (3, 3), activation='relu', input_shape=(50, 50, 3)))\n",
    "model.add(layers.MaxPooling2D((2, 2)))\n",
    "model.add(layers.Conv2D(64, (3, 3), activation='relu'))\n",
    "model.add(layers.MaxPooling2D((2, 2)))\n",
    "model.add(layers.Conv2D(128, (3, 3), activation='relu'))\n",
    "model.add(layers.MaxPooling2D((2, 2)))\n",
    "model.add(layers.Dropout(0.2))\n",
    "# model.add(layers.Conv2D(128, (3, 3), activation='relu'))\n",
    "# model.add(layers.MaxPooling2D((2, 2)))\n",
    "model.add(layers.Flatten())\n",
    "model.add(layers.Dropout(0.5))\n",
    "model.add(layers.Dense(512, activation='relu'))\n",
    "model.add(layers.Dense(1, activation='sigmoid'))\n",
    "\n",
    "model.compile(loss='binary_crossentropy',\n",
    "            optimizer=optimizers.RMSprop(lr=1e-4),\n",
    "            metrics=['acc'])"
   ]
  },
  {
   "cell_type": "markdown",
   "metadata": {},
   "source": [
    "## Saving the model with the best accuracy\n",
    "* The library helps in saving the model with the best accuracy during the training phase."
   ]
  },
  {
   "cell_type": "code",
   "execution_count": 20,
   "metadata": {},
   "outputs": [],
   "source": [
    "from keras.callbacks import ModelCheckpoint\n",
    "mc = ModelCheckpoint('brazil_good_and_bad_moods.hdf5', monitor='val_acc', verbose=1, save_best_only=True, mode='max')"
   ]
  },
  {
   "cell_type": "markdown",
   "metadata": {},
   "source": [
    "## Loading Training and Testing Data of Fei Face Dataset\n",
    "### The following steps are being done in the following code cell\n",
    "* Setting up train and test Image data generators with data augmentation to increase the size of the datasets and to avoid overfitting\n",
    "* The hyperparameters in the ImageDataGenerator direct how the images are to be augmented.\n",
    "* Having the data generators to direct image data from the directories to the model without having us to manually direct them.\n",
    "* The no. of epochs has has been set to 20 as that is deemed enough to properly train a small model from scratch.\n",
    "* The class_mode has been set to binary as there are only 2 classes to classify.\n",
    "* Training is performed on the Fei Face dataset and testing is done on Joey's private collection."
   ]
  },
  {
   "cell_type": "code",
   "execution_count": 21,
   "metadata": {},
   "outputs": [],
   "source": [
    "train_datagen = ImageDataGenerator(rescale=1./255,\n",
    "                                  rotation_range=40,\n",
    "                                  width_shift_range=0.2,\n",
    "                                  height_shift_range=0.2,\n",
    "                                  shear_range=0.2,\n",
    "                                  zoom_range=0.2,\n",
    "                                  horizontal_flip=True)\n",
    "\n",
    "test_datagen = ImageDataGenerator(rescale=1./255)"
   ]
  },
  {
   "cell_type": "code",
   "execution_count": 23,
   "metadata": {},
   "outputs": [
    {
     "name": "stdout",
     "output_type": "stream",
     "text": [
      "Found 300 images belonging to 2 classes.\n",
      "Found 40 images belonging to 2 classes.\n",
      "Epoch 1/20\n",
      "150/150 [==============================] - 34s 226ms/step - loss: 0.6765 - acc: 0.5660 - val_loss: 0.6996 - val_acc: 0.5250\n",
      "\n",
      "Epoch 00001: val_acc improved from -inf to 0.52500, saving model to brazil_good_and_bad_moods.hdf5\n",
      "Epoch 2/20\n",
      "150/150 [==============================] - 29s 195ms/step - loss: 0.5766 - acc: 0.7153 - val_loss: 0.8755 - val_acc: 0.5250\n",
      "\n",
      "Epoch 00002: val_acc did not improve from 0.52500\n",
      "Epoch 3/20\n",
      "150/150 [==============================] - 29s 195ms/step - loss: 0.4842 - acc: 0.7756 - val_loss: 1.3426 - val_acc: 0.5000\n",
      "\n",
      "Epoch 00003: val_acc did not improve from 0.52500\n",
      "Epoch 4/20\n",
      "150/150 [==============================] - 28s 186ms/step - loss: 0.4467 - acc: 0.7964 - val_loss: 1.9675 - val_acc: 0.5000\n",
      "\n",
      "Epoch 00004: val_acc did not improve from 0.52500\n",
      "Epoch 5/20\n",
      "150/150 [==============================] - 29s 194ms/step - loss: 0.4032 - acc: 0.8209 - val_loss: 2.3544 - val_acc: 0.5000\n",
      "\n",
      "Epoch 00005: val_acc did not improve from 0.52500\n",
      "Epoch 6/20\n",
      "150/150 [==============================] - 29s 191ms/step - loss: 0.3803 - acc: 0.8342 - val_loss: 2.0241 - val_acc: 0.5000\n",
      "\n",
      "Epoch 00006: val_acc did not improve from 0.52500\n",
      "Epoch 7/20\n",
      "150/150 [==============================] - 29s 197ms/step - loss: 0.3472 - acc: 0.8458 - val_loss: 2.5957 - val_acc: 0.5000\n",
      "\n",
      "Epoch 00007: val_acc did not improve from 0.52500\n",
      "Epoch 8/20\n",
      "150/150 [==============================] - 29s 194ms/step - loss: 0.3268 - acc: 0.8624 - val_loss: 2.7435 - val_acc: 0.5000\n",
      "\n",
      "Epoch 00008: val_acc did not improve from 0.52500\n",
      "Epoch 9/20\n",
      "150/150 [==============================] - 29s 196ms/step - loss: 0.3035 - acc: 0.8676 - val_loss: 3.1424 - val_acc: 0.5000\n",
      "\n",
      "Epoch 00009: val_acc did not improve from 0.52500\n",
      "Epoch 10/20\n",
      "150/150 [==============================] - 28s 188ms/step - loss: 0.2993 - acc: 0.8747 - val_loss: 2.2375 - val_acc: 0.5250\n",
      "\n",
      "Epoch 00010: val_acc did not improve from 0.52500\n",
      "Epoch 11/20\n",
      "150/150 [==============================] - 28s 189ms/step - loss: 0.2805 - acc: 0.8824 - val_loss: 2.8672 - val_acc: 0.5000\n",
      "\n",
      "Epoch 00011: val_acc did not improve from 0.52500\n",
      "Epoch 12/20\n",
      "150/150 [==============================] - 28s 188ms/step - loss: 0.2627 - acc: 0.8933 - val_loss: 2.1487 - val_acc: 0.5250\n",
      "\n",
      "Epoch 00012: val_acc did not improve from 0.52500\n",
      "Epoch 13/20\n",
      "150/150 [==============================] - 28s 187ms/step - loss: 0.2500 - acc: 0.8962 - val_loss: 3.2767 - val_acc: 0.5000\n",
      "\n",
      "Epoch 00013: val_acc did not improve from 0.52500\n",
      "Epoch 14/20\n",
      "150/150 [==============================] - 29s 191ms/step - loss: 0.2477 - acc: 0.8964 - val_loss: 2.5891 - val_acc: 0.5250\n",
      "\n",
      "Epoch 00014: val_acc did not improve from 0.52500\n",
      "Epoch 15/20\n",
      "150/150 [==============================] - 28s 187ms/step - loss: 0.2362 - acc: 0.9044 - val_loss: 3.1872 - val_acc: 0.5000\n",
      "\n",
      "Epoch 00015: val_acc did not improve from 0.52500\n",
      "Epoch 16/20\n",
      "150/150 [==============================] - 30s 200ms/step - loss: 0.2339 - acc: 0.9033 - val_loss: 3.1643 - val_acc: 0.5000\n",
      "\n",
      "Epoch 00016: val_acc did not improve from 0.52500\n",
      "Epoch 17/20\n",
      "150/150 [==============================] - 30s 199ms/step - loss: 0.2269 - acc: 0.9051 - val_loss: 3.6403 - val_acc: 0.5000\n",
      "\n",
      "Epoch 00017: val_acc did not improve from 0.52500\n",
      "Epoch 18/20\n",
      "150/150 [==============================] - 34s 229ms/step - loss: 0.2206 - acc: 0.9113 - val_loss: 3.7809 - val_acc: 0.5000\n",
      "\n",
      "Epoch 00018: val_acc did not improve from 0.52500\n",
      "Epoch 19/20\n",
      "150/150 [==============================] - 35s 236ms/step - loss: 0.2048 - acc: 0.9136 - val_loss: 3.7492 - val_acc: 0.5000\n",
      "\n",
      "Epoch 00019: val_acc did not improve from 0.52500\n",
      "Epoch 20/20\n",
      "150/150 [==============================] - 36s 238ms/step - loss: 0.1997 - acc: 0.9124 - val_loss: 3.3663 - val_acc: 0.5000\n",
      "\n",
      "Epoch 00020: val_acc did not improve from 0.52500\n"
     ]
    }
   ],
   "source": [
    "train_generator = train_datagen.flow_from_directory(train_dir,\n",
    "                                                   target_size=(50, 50),\n",
    "                                                   batch_size=32,\n",
    "                                                   class_mode='binary')\n",
    "\n",
    "validation_generator = test_datagen.flow_from_directory(validation_dir,\n",
    "                                                        target_size=(50, 50),\n",
    "                                                        batch_size=40,\n",
    "                                                        class_mode='binary')\n",
    "\n",
    "history = model.fit_generator(train_generator,\n",
    "                            steps_per_epoch=150,\n",
    "                            epochs=20,\n",
    "                            callbacks=[mc],\n",
    "                            validation_data=validation_generator,\n",
    "                            validation_steps=100)"
   ]
  },
  {
   "cell_type": "markdown",
   "metadata": {},
   "source": [
    "## Graphs of the Results"
   ]
  },
  {
   "cell_type": "code",
   "execution_count": 24,
   "metadata": {},
   "outputs": [
    {
     "data": {
      "image/png": "[encoded data removed]",
      "text/plain": [
       "<Figure size 432x288 with 1 Axes>"
      ]
     },
     "metadata": {
      "needs_background": "light"
     },
     "output_type": "display_data"
    },
    {
     "data": {
      "image/png": "[encoded data removed]",
      "text/plain": [
       "<Figure size 432x288 with 1 Axes>"
      ]
     },
     "metadata": {
      "needs_background": "light"
     },
     "output_type": "display_data"
    }
   ],
   "source": [
    "# Plotting the train accuracy and loss graphs\n",
    "\n",
    "acc = history.history['acc']\n",
    "val_acc = history.history['val_acc']\n",
    "loss = history.history['loss']\n",
    "val_loss = history.history['val_loss']\n",
    "\n",
    "epochs = range(1, len(acc)+1)\n",
    "\n",
    "plt.plot(epochs, acc, 'bo', label='Training Accuracy')\n",
    "plt.plot(epochs, val_acc, 'b', label='Validation Accuracy')\n",
    "plt.title(\"Training and validation accuracy\")\n",
    "plt.legend()\n",
    "\n",
    "plt.figure()\n",
    "\n",
    "plt.plot(epochs, loss, 'bo', label='Training Loss')\n",
    "plt.plot(epochs, val_loss, 'b', label='Validation Loss')\n",
    "plt.title(\"Training and Validation Loss\")\n",
    "plt.legend()\n",
    "\n",
    "plt.show()"
   ]
  },
  {
   "cell_type": "markdown",
   "metadata": {},
   "source": [
    "# Classification on Fei Face Dataset (Area Under Curve Evaluation)"
   ]
  },
  {
   "cell_type": "code",
   "execution_count": 37,
   "metadata": {},
   "outputs": [],
   "source": [
    "from keras.preprocessing import image\n",
    "from keras.preprocessing.image import ImageDataGenerator\n",
    "from keras import layers, models, optimizers, metrics"
   ]
  },
  {
   "cell_type": "markdown",
   "metadata": {},
   "source": [
    "## Reading Filenames\n",
    "* os.getcwd() function will get the current working directory"
   ]
  },
  {
   "cell_type": "code",
   "execution_count": 38,
   "metadata": {},
   "outputs": [],
   "source": [
    "train_dir = os.getcwd() + \"\\\\good_and_bad_moods\\\\brazil\\\\brazil_dataset\\\\train\"\n",
    "validation_dir = os.getcwd() + \"\\\\good_and_bad_moods\\\\test\""
   ]
  },
  {
   "cell_type": "markdown",
   "metadata": {},
   "source": [
    "## Convolutional Neural Network Model\n",
    "* There are 3 convolutional layers with Max pooling layers to extract major features from the image.\n",
    "* Dropout layers have been added to avoid overfitting.\n",
    "* Fatten layer has been added to convert the image into a (n x 1) tensor to feed into a fully connected layer.\n",
    "* Model is being compiled in the end.\n",
    "* The loss function has been set to binary cross entropy as it generally results in better training on binary classes."
   ]
  },
  {
   "cell_type": "code",
   "execution_count": 39,
   "metadata": {},
   "outputs": [],
   "source": [
    "model_1 = models.Sequential()\n",
    "\n",
    "model_1.add(layers.Conv2D(32, (3, 3), activation='relu', input_shape=(50, 50, 3)))\n",
    "model_1.add(layers.MaxPooling2D((2, 2)))\n",
    "model_1.add(layers.Conv2D(64, (3, 3), activation='relu'))\n",
    "model_1.add(layers.MaxPooling2D((2, 2)))\n",
    "model_1.add(layers.Conv2D(128, (3, 3), activation='relu'))\n",
    "model_1.add(layers.MaxPooling2D((2, 2)))\n",
    "model_1.add(layers.Dropout(0.3))\n",
    "model_1.add(layers.Conv2D(128, (3, 3), activation='relu'))\n",
    "model_1.add(layers.MaxPooling2D((2, 2)))\n",
    "model_1.add(layers.Flatten())\n",
    "model_1.add(layers.Dropout(0.5))\n",
    "model_1.add(layers.Dense(512, activation='relu'))\n",
    "model_1.add(layers.Dense(1, activation='sigmoid'))\n",
    "\n",
    "model_1.compile(loss='binary_crossentropy',\n",
    "            optimizer=optimizers.RMSprop(lr=1e-4),\n",
    "            metrics=[metrics.AUC()])"
   ]
  },
  {
   "cell_type": "markdown",
   "metadata": {},
   "source": [
    "## Saving the model with the best accuracy\n",
    "* The library helps in saving the model with the best accuracy during the training phase."
   ]
  },
  {
   "cell_type": "code",
   "execution_count": 40,
   "metadata": {},
   "outputs": [],
   "source": [
    "from keras.callbacks import ModelCheckpoint\n",
    "mc = ModelCheckpoint('brazil_good_and_bad_moods_auc.hdf5', monitor='val_auc_1', verbose=1, save_best_only=True, mode='max')"
   ]
  },
  {
   "cell_type": "markdown",
   "metadata": {},
   "source": [
    "## Loading Training and Testing Data of Fei Face Dataset\n",
    "### The following steps are being done in the following code cell\n",
    "* Setting up train and test Image data generators with data augmentation to increase the size of the datasets and to avoid overfitting\n",
    "* The hyperparameters in the ImageDataGenerator direct how the images are to be augmented.\n",
    "* Having the data generators to direct image data from the directories to the model without having us to manually direct them.\n",
    "* The no. of epochs has has been set to 20 as that is deemed enough to properly train a small model from scratch.\n",
    "* The class_mode has been set to binary as there are only 2 classes to classify.\n",
    "* Training is performed on the Fei Face dataset and testing is done on Joey's private collection."
   ]
  },
  {
   "cell_type": "code",
   "execution_count": 41,
   "metadata": {},
   "outputs": [],
   "source": [
    "train_datagen = ImageDataGenerator(rescale=1./255,\n",
    "                                  rotation_range=40,\n",
    "                                  width_shift_range=0.2,\n",
    "                                  height_shift_range=0.2,\n",
    "                                  shear_range=0.2,\n",
    "                                  zoom_range=0.2,\n",
    "                                  horizontal_flip=True)\n",
    "\n",
    "test_datagen = ImageDataGenerator(rescale=1./255)"
   ]
  },
  {
   "cell_type": "code",
   "execution_count": 42,
   "metadata": {},
   "outputs": [
    {
     "name": "stdout",
     "output_type": "stream",
     "text": [
      "Found 300 images belonging to 2 classes.\n",
      "Found 40 images belonging to 2 classes.\n",
      "Epoch 1/20\n",
      "150/150 [==============================] - 38s 257ms/step - loss: 0.6904 - auc_1: 0.5492 - val_loss: 0.6922 - val_auc_1: 0.5562\n",
      "\n",
      "Epoch 00001: val_auc_1 improved from -inf to 0.55625, saving model to brazil_good_and_bad_moods_auc.hdf5\n",
      "Epoch 2/20\n",
      "150/150 [==============================] - 37s 248ms/step - loss: 0.6482 - auc_1: 0.7094 - val_loss: 0.8390 - val_auc_1: 0.6350\n",
      "\n",
      "Epoch 00002: val_auc_1 improved from 0.55625 to 0.63500, saving model to brazil_good_and_bad_moods_auc.hdf5\n",
      "Epoch 3/20\n",
      "150/150 [==============================] - 37s 247ms/step - loss: 0.5371 - auc_1: 0.8079 - val_loss: 1.2509 - val_auc_1: 0.6175\n",
      "\n",
      "Epoch 00003: val_auc_1 did not improve from 0.63500\n",
      "Epoch 4/20\n",
      "150/150 [==============================] - 37s 250ms/step - loss: 0.4480 - auc_1: 0.8685 - val_loss: 1.3086 - val_auc_1: 0.5775\n",
      "\n",
      "Epoch 00004: val_auc_1 did not improve from 0.63500\n",
      "Epoch 5/20\n",
      "150/150 [==============================] - 38s 250ms/step - loss: 0.4104 - auc_1: 0.8917 - val_loss: 1.2186 - val_auc_1: 0.5825\n",
      "\n",
      "Epoch 00005: val_auc_1 did not improve from 0.63500\n",
      "Epoch 6/20\n",
      "150/150 [==============================] - 38s 255ms/step - loss: 0.3690 - auc_1: 0.9092 - val_loss: 1.3868 - val_auc_1: 0.6113\n",
      "\n",
      "Epoch 00006: val_auc_1 did not improve from 0.63500\n",
      "Epoch 7/20\n",
      "150/150 [==============================] - 37s 247ms/step - loss: 0.3465 - auc_1: 0.9251 - val_loss: 1.6866 - val_auc_1: 0.6575\n",
      "\n",
      "Epoch 00007: val_auc_1 improved from 0.63500 to 0.65750, saving model to brazil_good_and_bad_moods_auc.hdf5\n",
      "Epoch 8/20\n",
      "150/150 [==============================] - 34s 230ms/step - loss: 0.3182 - auc_1: 0.9383 - val_loss: 1.2406 - val_auc_1: 0.6612\n",
      "\n",
      "Epoch 00008: val_auc_1 improved from 0.65750 to 0.66125, saving model to brazil_good_and_bad_moods_auc.hdf5\n",
      "Epoch 9/20\n",
      "150/150 [==============================] - 36s 239ms/step - loss: 0.2864 - auc_1: 0.9486 - val_loss: 1.5031 - val_auc_1: 0.6763\n",
      "\n",
      "Epoch 00009: val_auc_1 improved from 0.66125 to 0.67625, saving model to brazil_good_and_bad_moods_auc.hdf5\n",
      "Epoch 10/20\n",
      "150/150 [==============================] - 38s 250ms/step - loss: 0.2731 - auc_1: 0.9537 - val_loss: 1.3764 - val_auc_1: 0.6687\n",
      "\n",
      "Epoch 00010: val_auc_1 did not improve from 0.67625\n",
      "Epoch 11/20\n",
      "150/150 [==============================] - 35s 236ms/step - loss: 0.2536 - auc_1: 0.9602 - val_loss: 1.4021 - val_auc_1: 0.6750\n",
      "\n",
      "Epoch 00011: val_auc_1 did not improve from 0.67625\n",
      "Epoch 12/20\n",
      "150/150 [==============================] - 37s 248ms/step - loss: 0.2329 - auc_1: 0.9648 - val_loss: 1.4256 - val_auc_1: 0.6712\n",
      "\n",
      "Epoch 00012: val_auc_1 did not improve from 0.67625\n",
      "Epoch 13/20\n",
      "150/150 [==============================] - 37s 249ms/step - loss: 0.2364 - auc_1: 0.9640 - val_loss: 1.3470 - val_auc_1: 0.6837\n",
      "\n",
      "Epoch 00013: val_auc_1 improved from 0.67625 to 0.68375, saving model to brazil_good_and_bad_moods_auc.hdf5\n",
      "Epoch 14/20\n",
      "150/150 [==============================] - 36s 239ms/step - loss: 0.2177 - auc_1: 0.9702 - val_loss: 1.8296 - val_auc_1: 0.6637\n",
      "\n",
      "Epoch 00014: val_auc_1 did not improve from 0.68375\n",
      "Epoch 15/20\n",
      "150/150 [==============================] - 38s 250ms/step - loss: 0.2022 - auc_1: 0.9732 - val_loss: 1.9655 - val_auc_1: 0.6900\n",
      "\n",
      "Epoch 00015: val_auc_1 improved from 0.68375 to 0.69000, saving model to brazil_good_and_bad_moods_auc.hdf5\n",
      "Epoch 16/20\n",
      "150/150 [==============================] - 38s 253ms/step - loss: 0.2028 - auc_1: 0.9744 - val_loss: 1.8170 - val_auc_1: 0.6862\n",
      "\n",
      "Epoch 00016: val_auc_1 did not improve from 0.69000\n",
      "Epoch 17/20\n",
      "150/150 [==============================] - 36s 242ms/step - loss: 0.1976 - auc_1: 0.9757 - val_loss: 2.2389 - val_auc_1: 0.6650\n",
      "\n",
      "Epoch 00017: val_auc_1 did not improve from 0.69000\n",
      "Epoch 18/20\n",
      "150/150 [==============================] - 38s 252ms/step - loss: 0.1849 - auc_1: 0.9793 - val_loss: 2.3066 - val_auc_1: 0.6788\n",
      "\n",
      "Epoch 00018: val_auc_1 did not improve from 0.69000\n",
      "Epoch 19/20\n",
      "150/150 [==============================] - 36s 240ms/step - loss: 0.1788 - auc_1: 0.9806 - val_loss: 2.8423 - val_auc_1: 0.6200\n",
      "\n",
      "Epoch 00019: val_auc_1 did not improve from 0.69000\n",
      "Epoch 20/20\n",
      "150/150 [==============================] - 36s 239ms/step - loss: 0.1799 - auc_1: 0.9802 - val_loss: 1.6675 - val_auc_1: 0.6750\n",
      "\n",
      "Epoch 00020: val_auc_1 did not improve from 0.69000\n"
     ]
    }
   ],
   "source": [
    "train_generator = train_datagen.flow_from_directory(train_dir,\n",
    "                                                   target_size=(50, 50),\n",
    "                                                   batch_size=32,\n",
    "                                                   class_mode='binary')\n",
    "\n",
    "validation_generator = test_datagen.flow_from_directory(validation_dir,\n",
    "                                                        target_size=(50, 50),\n",
    "                                                        batch_size=40,\n",
    "                                                        class_mode='binary')\n",
    "\n",
    "history = model_1.fit_generator(train_generator,\n",
    "                            steps_per_epoch=150,\n",
    "                            epochs=20,\n",
    "                            callbacks=[mc],\n",
    "                            validation_data=validation_generator,\n",
    "                            validation_steps=100)"
   ]
  },
  {
   "cell_type": "markdown",
   "metadata": {},
   "source": [
    "## Graphs of the Results"
   ]
  },
  {
   "cell_type": "code",
   "execution_count": 43,
   "metadata": {},
   "outputs": [
    {
     "data": {
      "image/png": "[encoded data removed]",
      "text/plain": [
       "<Figure size 432x288 with 1 Axes>"
      ]
     },
     "metadata": {
      "needs_background": "light"
     },
     "output_type": "display_data"
    },
    {
     "data": {
      "image/png": "[encoded data removed]",
      "text/plain": [
       "<Figure size 432x288 with 1 Axes>"
      ]
     },
     "metadata": {
      "needs_background": "light"
     },
     "output_type": "display_data"
    }
   ],
   "source": [
    "auc = history.history['auc_1']\n",
    "val_auc = history.history['val_auc_1']\n",
    "auc_loss = history.history['loss']\n",
    "val_loss = history.history['val_loss']\n",
    "\n",
    "epochs = range(1, len(auc)+1)\n",
    "\n",
    "plt.plot(epochs, auc, 'bo', label='Training AUC')\n",
    "plt.plot(epochs, val_auc, 'b', label='Validation AUC')\n",
    "plt.title(\"Training and validation AUC\")\n",
    "plt.legend()\n",
    "\n",
    "plt.figure()\n",
    "\n",
    "plt.plot(epochs, auc_loss, 'bo', label='Training Loss')\n",
    "plt.plot(epochs, val_loss, 'b', label='Validation Loss')\n",
    "plt.title(\"Training and Validation Loss\")\n",
    "plt.legend()\n",
    "\n",
    "plt.show()"
   ]
  },
  {
   "cell_type": "markdown",
   "metadata": {},
   "source": [
    "# Classification on JAFFE Dataset (Accuracy Evaluation)"
   ]
  },
  {
   "cell_type": "markdown",
   "metadata": {},
   "source": [
    "## Reading Filenames\n",
    "* os.getcwd() function will get the current working directory"
   ]
  },
  {
   "cell_type": "code",
   "execution_count": 31,
   "metadata": {},
   "outputs": [],
   "source": [
    "train_dir = os.getcwd() + \"\\\\good_and_bad_moods\\\\japanese\\\\train\"\n",
    "validation_dir = os.getcwd() + \"\\\\good_and_bad_moods\\\\test\""
   ]
  },
  {
   "cell_type": "markdown",
   "metadata": {},
   "source": [
    "## Convolutional Neural Network Model\n",
    "* There are 3 convolutional layers with Max pooling layers to extract major features from the image.\n",
    "* Dropout layers have been added to avoid overfitting.\n",
    "* Fatten layer has been added to convert the image into a (n x 1) tensor to feed into a fully connected layer.\n",
    "* Model is being compiled in the end.\n",
    "* The loss function has been set to binary cross entropy as it generally results in better training on binary classes."
   ]
  },
  {
   "cell_type": "code",
   "execution_count": 32,
   "metadata": {},
   "outputs": [],
   "source": [
    "model_2 = models.Sequential()\n",
    "\n",
    "model_2.add(layers.Conv2D(16, (3, 3), activation='relu', input_shape=(50, 50, 3)))\n",
    "model_2.add(layers.MaxPooling2D((2, 2)))\n",
    "model_2.add(layers.Conv2D(32, (3, 3), activation='relu'))\n",
    "model_2.add(layers.MaxPooling2D((2, 2)))\n",
    "model_2.add(layers.Conv2D(64, (3, 3), activation='relu'))\n",
    "model_2.add(layers.MaxPooling2D((2, 2)))\n",
    "model_2.add(layers.Conv2D(128, (3, 3), activation='relu'))\n",
    "model_2.add(layers.MaxPooling2D((2, 2)))\n",
    "model_2.add(layers.Flatten())\n",
    "model_2.add(layers.Dropout(0.5))\n",
    "model_2.add(layers.Dense(256, activation='relu'))\n",
    "model_2.add(layers.Dense(1, activation='sigmoid'))\n",
    "\n",
    "model_2.compile(loss='binary_crossentropy',\n",
    "            optimizer=optimizers.RMSprop(lr=1e-4),\n",
    "            metrics=['acc'])"
   ]
  },
  {
   "cell_type": "markdown",
   "metadata": {},
   "source": [
    "## Saving the model with the best accuracy\n",
    "* The library helps in saving the model with the best accuracy during the training phase."
   ]
  },
  {
   "cell_type": "code",
   "execution_count": 33,
   "metadata": {},
   "outputs": [],
   "source": [
    "from keras.callbacks import ModelCheckpoint\n",
    "mc = ModelCheckpoint('japanese_good_and_bad_moods.hdf5', monitor='val_acc', verbose=1, save_best_only=True, mode='max')"
   ]
  },
  {
   "cell_type": "markdown",
   "metadata": {},
   "source": [
    "## Loading Training and Testing Data of JAFFE Dataset\n",
    "### The following steps are being done in the following code cell\n",
    "* Setting up train and test Image data generators with data augmentation to increase the size of the datasets and to avoid overfitting\n",
    "* The hyperparameters in the ImageDataGenerator direct how the images are to be augmented.\n",
    "* Having the data generators to direct image data from the directories to the model without having us to manually direct them.\n",
    "* The no. of epochs has has been set to 20 as that is deemed enough to properly train a small model from scratch.\n",
    "* The class_mode has been set to binary as there are only 2 classes to classify.\n",
    "* Training is performed on the JAFFE dataset and testing is done on Joey's private collection."
   ]
  },
  {
   "cell_type": "code",
   "execution_count": 34,
   "metadata": {},
   "outputs": [],
   "source": [
    "train_datagen = ImageDataGenerator(rescale=1./255,\n",
    "                                  rotation_range=40,\n",
    "                                  width_shift_range=0.2,\n",
    "                                  height_shift_range=0.2,\n",
    "                                  shear_range=0.2,\n",
    "                                  zoom_range=0.2,\n",
    "                                  horizontal_flip=True)\n",
    "\n",
    "test_datagen = ImageDataGenerator(rescale=1./255)"
   ]
  },
  {
   "cell_type": "code",
   "execution_count": 35,
   "metadata": {},
   "outputs": [
    {
     "name": "stdout",
     "output_type": "stream",
     "text": [
      "Found 167 images belonging to 2 classes.\n",
      "Found 40 images belonging to 2 classes.\n",
      "Epoch 1/20\n",
      "150/150 [==============================] - 40s 265ms/step - loss: 0.6404 - acc: 0.6704 - val_loss: 0.7641 - val_acc: 0.5000\n",
      "\n",
      "Epoch 00001: val_acc improved from -inf to 0.50000, saving model to japanese_good_and_bad_moods.hdf5\n",
      "Epoch 2/20\n",
      "150/150 [==============================] - 39s 260ms/step - loss: 0.6437 - acc: 0.6707 - val_loss: 0.7653 - val_acc: 0.5000\n",
      "\n",
      "Epoch 00002: val_acc did not improve from 0.50000\n",
      "Epoch 3/20\n",
      "150/150 [==============================] - 40s 264ms/step - loss: 0.6383 - acc: 0.6707 - val_loss: 0.7920 - val_acc: 0.5000\n",
      "\n",
      "Epoch 00003: val_acc did not improve from 0.50000\n",
      "Epoch 4/20\n",
      "150/150 [==============================] - 40s 266ms/step - loss: 0.6360 - acc: 0.6707 - val_loss: 0.7750 - val_acc: 0.5000\n",
      "\n",
      "Epoch 00004: val_acc did not improve from 0.50000\n",
      "Epoch 5/20\n",
      "150/150 [==============================] - 43s 286ms/step - loss: 0.6364 - acc: 0.6707 - val_loss: 0.7611 - val_acc: 0.5000\n",
      "\n",
      "Epoch 00005: val_acc did not improve from 0.50000\n",
      "Epoch 6/20\n",
      "150/150 [==============================] - 42s 279ms/step - loss: 0.6353 - acc: 0.6707 - val_loss: 0.7612 - val_acc: 0.5000\n",
      "\n",
      "Epoch 00006: val_acc did not improve from 0.50000\n",
      "Epoch 7/20\n",
      "150/150 [==============================] - 39s 261ms/step - loss: 0.6244 - acc: 0.6707 - val_loss: 0.7240 - val_acc: 0.5000\n",
      "\n",
      "Epoch 00007: val_acc did not improve from 0.50000\n",
      "Epoch 8/20\n",
      "150/150 [==============================] - 41s 271ms/step - loss: 0.6170 - acc: 0.6707 - val_loss: 0.7200 - val_acc: 0.5000\n",
      "\n",
      "Epoch 00008: val_acc did not improve from 0.50000\n",
      "Epoch 9/20\n",
      "150/150 [==============================] - 42s 277ms/step - loss: 0.6167 - acc: 0.6707 - val_loss: 0.7195 - val_acc: 0.5000\n",
      "\n",
      "Epoch 00009: val_acc did not improve from 0.50000\n",
      "Epoch 10/20\n",
      "150/150 [==============================] - 40s 268ms/step - loss: 0.6034 - acc: 0.6707 - val_loss: 0.6910 - val_acc: 0.5000\n",
      "\n",
      "Epoch 00010: val_acc did not improve from 0.50000\n",
      "Epoch 11/20\n",
      "150/150 [==============================] - 40s 270ms/step - loss: 0.6067 - acc: 0.6707 - val_loss: 0.7268 - val_acc: 0.5000\n",
      "\n",
      "Epoch 00011: val_acc did not improve from 0.50000\n",
      "Epoch 12/20\n",
      "150/150 [==============================] - 41s 275ms/step - loss: 0.6010 - acc: 0.6707 - val_loss: 0.7562 - val_acc: 0.5000\n",
      "\n",
      "Epoch 00012: val_acc did not improve from 0.50000\n",
      "Epoch 13/20\n",
      "150/150 [==============================] - 40s 264ms/step - loss: 0.5985 - acc: 0.6707 - val_loss: 0.6946 - val_acc: 0.5000\n",
      "\n",
      "Epoch 00013: val_acc did not improve from 0.50000\n",
      "Epoch 14/20\n",
      "150/150 [==============================] - 40s 264ms/step - loss: 0.5914 - acc: 0.6726 - val_loss: 0.7572 - val_acc: 0.5000\n",
      "\n",
      "Epoch 00014: val_acc did not improve from 0.50000\n",
      "Epoch 15/20\n",
      "150/150 [==============================] - 39s 261ms/step - loss: 0.5886 - acc: 0.6735 - val_loss: 0.7276 - val_acc: 0.5000\n",
      "\n",
      "Epoch 00015: val_acc did not improve from 0.50000\n",
      "Epoch 16/20\n",
      "150/150 [==============================] - 39s 261ms/step - loss: 0.5884 - acc: 0.6750 - val_loss: 0.7560 - val_acc: 0.5000\n",
      "\n",
      "Epoch 00016: val_acc did not improve from 0.50000\n",
      "Epoch 17/20\n",
      "150/150 [==============================] - 40s 269ms/step - loss: 0.5802 - acc: 0.6769 - val_loss: 0.7706 - val_acc: 0.5000\n",
      "\n",
      "Epoch 00017: val_acc did not improve from 0.50000\n",
      "Epoch 18/20\n",
      "150/150 [==============================] - 41s 273ms/step - loss: 0.5894 - acc: 0.6872 - val_loss: 0.7695 - val_acc: 0.5000\n",
      "\n",
      "Epoch 00018: val_acc did not improve from 0.50000\n",
      "Epoch 19/20\n",
      "150/150 [==============================] - 40s 266ms/step - loss: 0.5902 - acc: 0.6850 - val_loss: 0.7495 - val_acc: 0.5000\n",
      "\n",
      "Epoch 00019: val_acc did not improve from 0.50000\n",
      "Epoch 20/20\n",
      "150/150 [==============================] - 42s 279ms/step - loss: 0.5820 - acc: 0.6953 - val_loss: 0.7456 - val_acc: 0.5000\n",
      "\n",
      "Epoch 00020: val_acc did not improve from 0.50000\n"
     ]
    }
   ],
   "source": [
    "train_generator = train_datagen.flow_from_directory(train_dir,\n",
    "                                                   target_size=(50, 50),\n",
    "                                                   batch_size=32,\n",
    "                                                   class_mode='binary')\n",
    "\n",
    "validation_generator = test_datagen.flow_from_directory(validation_dir,\n",
    "                                                        target_size=(50, 50),\n",
    "                                                        batch_size=40,\n",
    "                                                        class_mode='binary')\n",
    "\n",
    "history = model_2.fit_generator(train_generator,\n",
    "                            steps_per_epoch=150,\n",
    "                            epochs=20,\n",
    "                            callbacks=[mc],\n",
    "                            validation_data=validation_generator,\n",
    "                            validation_steps=100)"
   ]
  },
  {
   "cell_type": "markdown",
   "metadata": {},
   "source": [
    "## Graphs of the Results"
   ]
  },
  {
   "cell_type": "code",
   "execution_count": 36,
   "metadata": {},
   "outputs": [
    {
     "data": {
      "image/png": "[encoded data removed]",
      "text/plain": [
       "<Figure size 432x288 with 1 Axes>"
      ]
     },
     "metadata": {
      "needs_background": "light"
     },
     "output_type": "display_data"
    },
    {
     "data": {
      "image/png": "[encoded data removed]",
      "text/plain": [
       "<Figure size 432x288 with 1 Axes>"
      ]
     },
     "metadata": {
      "needs_background": "light"
     },
     "output_type": "display_data"
    }
   ],
   "source": [
    "acc = history.history['acc']\n",
    "val_acc = history.history['val_acc']\n",
    "loss = history.history['loss']\n",
    "val_loss = history.history['val_loss']\n",
    "\n",
    "epochs = range(1, len(acc)+1)\n",
    "\n",
    "plt.plot(epochs, acc, 'bo', label='Training Accuracy')\n",
    "plt.plot(epochs, val_acc, 'b', label='Validation Accuracy')\n",
    "plt.title(\"Training and validation accuracy\")\n",
    "plt.legend()\n",
    "\n",
    "plt.figure()\n",
    "\n",
    "plt.plot(epochs, loss, 'bo', label='Training Loss')\n",
    "plt.plot(epochs, val_loss, 'b', label='Validation Loss')\n",
    "plt.title(\"Training and Validation Loss\")\n",
    "plt.legend()\n",
    "\n",
    "plt.show()"
   ]
  },
  {
   "cell_type": "markdown",
   "metadata": {},
   "source": [
    "# Classification on JAFFE Dataset (Area Under Curve Evaluation)"
   ]
  },
  {
   "cell_type": "markdown",
   "metadata": {},
   "source": [
    "## Reading Filenames\n",
    "* os.getcwd() function will get the current working directory"
   ]
  },
  {
   "cell_type": "code",
   "execution_count": 51,
   "metadata": {},
   "outputs": [],
   "source": [
    "# Setting directories for training and testing\n",
    "\n",
    "train_dir = os.getcwd() + \"\\\\good_and_bad_moods\\\\japanese\\\\train\"\n",
    "validation_dir = os.getcwd() + \"\\\\good_and_bad_moods\\\\test\""
   ]
  },
  {
   "cell_type": "markdown",
   "metadata": {},
   "source": [
    "## Convolutional Neural Network Model\n",
    "* There are 3 convolutional layers with Max pooling layers to extract major features from the image.\n",
    "* Dropout layers have been added to avoid overfitting.\n",
    "* Fatten layer has been added to convert the image into a (n x 1) tensor to feed into a fully connected layer.\n",
    "* Model is being compiled in the end.\n",
    "* The loss function has been set to binary cross entropy as it generally results in better training on binary classes."
   ]
  },
  {
   "cell_type": "code",
   "execution_count": 52,
   "metadata": {},
   "outputs": [],
   "source": [
    "model_3 = models.Sequential()\n",
    "\n",
    "model_3.add(layers.Conv2D(16, (3, 3), activation='relu', input_shape=(50, 50, 3)))\n",
    "model_3.add(layers.MaxPooling2D((2, 2)))\n",
    "model_3.add(layers.Conv2D(32, (3, 3), activation='relu'))\n",
    "model_3.add(layers.MaxPooling2D((2, 2)))\n",
    "model_3.add(layers.Conv2D(64, (3, 3), activation='relu'))\n",
    "model_3.add(layers.MaxPooling2D((2, 2)))\n",
    "model_3.add(layers.Conv2D(128, (3, 3), activation='relu'))\n",
    "model_3.add(layers.MaxPooling2D((2, 2)))\n",
    "model_3.add(layers.Flatten())\n",
    "model_3.add(layers.Dropout(0.5))\n",
    "model_3.add(layers.Dense(256, activation='relu'))\n",
    "model_3.add(layers.Dense(1, activation='sigmoid'))\n",
    "\n",
    "model_3.compile(loss='binary_crossentropy',\n",
    "            optimizer=optimizers.RMSprop(lr=1e-4),\n",
    "            metrics=[metrics.AUC()])"
   ]
  },
  {
   "cell_type": "markdown",
   "metadata": {},
   "source": [
    "## Saving the model with the best accuracy\n",
    "* The library helps in saving the model with the best accuracy during the training phase."
   ]
  },
  {
   "cell_type": "code",
   "execution_count": 53,
   "metadata": {},
   "outputs": [],
   "source": [
    "from keras.callbacks import ModelCheckpoint\n",
    "mc = ModelCheckpoint('japanese_good_and_bad_moods_auc.hdf5', monitor='val_acc', verbose=1, save_best_only=True, mode='max')"
   ]
  },
  {
   "cell_type": "markdown",
   "metadata": {},
   "source": [
    "## Loading Training and Testing Data of JAFFE Dataset\n",
    "### The following steps are being done in the following code cell\n",
    "* Setting up train and test Image data generators with data augmentation to increase the size of the datasets and to avoid overfitting\n",
    "* The hyperparameters in the ImageDataGenerator direct how the images are to be augmented.\n",
    "* Having the data generators to direct image data from the directories to the model without having us to manually direct them.\n",
    "* The no. of epochs has has been set to 20 as that is deemed enough to properly train a small model from scratch.\n",
    "* The class_mode has been set to binary as there are only 2 classes to classify.\n",
    "* Training is performed on the JAFFE dataset and testing is done on Joey's private collection."
   ]
  },
  {
   "cell_type": "code",
   "execution_count": 54,
   "metadata": {},
   "outputs": [],
   "source": [
    "train_datagen = ImageDataGenerator(rescale=1./255,\n",
    "                                  rotation_range=40,\n",
    "                                  width_shift_range=0.2,\n",
    "                                  height_shift_range=0.2,\n",
    "                                  shear_range=0.2,\n",
    "                                  zoom_range=0.2,\n",
    "                                  horizontal_flip=True)\n",
    "\n",
    "test_datagen = ImageDataGenerator(rescale=1./255)"
   ]
  },
  {
   "cell_type": "code",
   "execution_count": 55,
   "metadata": {},
   "outputs": [
    {
     "name": "stdout",
     "output_type": "stream",
     "text": [
      "Found 167 images belonging to 2 classes.\n",
      "Found 40 images belonging to 2 classes.\n",
      "Epoch 1/20\n",
      "150/150 [==============================] - 23s 153ms/step - loss: 0.6410 - auc_3: 0.4593 - val_loss: 0.7836 - val_auc_3: 0.2262\n",
      "Epoch 2/20\n",
      "150/150 [==============================] - 22s 149ms/step - loss: 0.6383 - auc_3: 0.4632 - val_loss: 0.7884 - val_auc_3: 0.2338\n",
      "Epoch 3/20\n",
      "150/150 [==============================] - 22s 149ms/step - loss: 0.6383 - auc_3: 0.4696 - val_loss: 0.7677 - val_auc_3: 0.2575\n",
      "Epoch 4/20\n",
      "150/150 [==============================] - 22s 149ms/step - loss: 0.6387 - auc_3: 0.4872 - val_loss: 0.7794 - val_auc_3: 0.3188\n",
      "Epoch 5/20\n",
      "150/150 [==============================] - 23s 150ms/step - loss: 0.6334 - auc_3: 0.5052 - val_loss: 0.7647 - val_auc_3: 0.3275\n",
      "Epoch 6/20\n",
      "150/150 [==============================] - 22s 150ms/step - loss: 0.6367 - auc_3: 0.5327 - val_loss: 0.7608 - val_auc_3: 0.3963\n",
      "Epoch 7/20\n",
      "150/150 [==============================] - 22s 149ms/step - loss: 0.6302 - auc_3: 0.5572 - val_loss: 0.7534 - val_auc_3: 0.4613\n",
      "Epoch 8/20\n",
      "150/150 [==============================] - 22s 149ms/step - loss: 0.6203 - auc_3: 0.5913 - val_loss: 0.7402 - val_auc_3: 0.5175\n",
      "Epoch 9/20\n",
      "150/150 [==============================] - 22s 149ms/step - loss: 0.6189 - auc_3: 0.6009 - val_loss: 0.7691 - val_auc_3: 0.5875\n",
      "Epoch 10/20\n",
      "150/150 [==============================] - 23s 150ms/step - loss: 0.6105 - auc_3: 0.6162 - val_loss: 0.7967 - val_auc_3: 0.6262\n",
      "Epoch 11/20\n",
      "150/150 [==============================] - 23s 151ms/step - loss: 0.6107 - auc_3: 0.6308 - val_loss: 0.7689 - val_auc_3: 0.6562\n",
      "Epoch 12/20\n",
      "150/150 [==============================] - 23s 153ms/step - loss: 0.6008 - auc_3: 0.6575 - val_loss: 0.8859 - val_auc_3: 0.6750\n",
      "Epoch 13/20\n",
      "150/150 [==============================] - 22s 150ms/step - loss: 0.6009 - auc_3: 0.6592 - val_loss: 0.8865 - val_auc_3: 0.6687\n",
      "Epoch 14/20\n",
      "150/150 [==============================] - 23s 155ms/step - loss: 0.5900 - auc_3: 0.6654 - val_loss: 0.9355 - val_auc_3: 0.6975\n",
      "Epoch 15/20\n",
      "150/150 [==============================] - 23s 151ms/step - loss: 0.5915 - auc_3: 0.6701 - val_loss: 1.1188 - val_auc_3: 0.6850\n",
      "Epoch 16/20\n",
      "150/150 [==============================] - 23s 151ms/step - loss: 0.5963 - auc_3: 0.6728 - val_loss: 1.0163 - val_auc_3: 0.6988\n",
      "Epoch 17/20\n",
      "150/150 [==============================] - 22s 149ms/step - loss: 0.5965 - auc_3: 0.6763 - val_loss: 0.9447 - val_auc_3: 0.6938\n",
      "Epoch 18/20\n",
      "150/150 [==============================] - 22s 149ms/step - loss: 0.5844 - auc_3: 0.6869 - val_loss: 1.2466 - val_auc_3: 0.6937\n",
      "Epoch 19/20\n",
      "150/150 [==============================] - 23s 154ms/step - loss: 0.5842 - auc_3: 0.6903 - val_loss: 1.1160 - val_auc_3: 0.6925\n",
      "Epoch 20/20\n",
      "150/150 [==============================] - 24s 158ms/step - loss: 0.5858 - auc_3: 0.6934 - val_loss: 1.1298 - val_auc_3: 0.6912\n"
     ]
    }
   ],
   "source": [
    "train_generator = train_datagen.flow_from_directory(train_dir,\n",
    "                                                   target_size=(50, 50),\n",
    "                                                   batch_size=32,\n",
    "                                                   class_mode='binary')\n",
    "\n",
    "validation_generator = test_datagen.flow_from_directory(validation_dir,\n",
    "                                                        target_size=(50, 50),\n",
    "                                                        batch_size=40,\n",
    "                                                        class_mode='binary')\n",
    "\n",
    "history = model_3.fit_generator(train_generator,\n",
    "                            steps_per_epoch=150,\n",
    "                            epochs=20,\n",
    "                            callbacks=[mc],\n",
    "                            validation_data=validation_generator,\n",
    "                            validation_steps=100)"
   ]
  },
  {
   "cell_type": "markdown",
   "metadata": {},
   "source": [
    "## Graphs of the Results"
   ]
  },
  {
   "cell_type": "code",
   "execution_count": 57,
   "metadata": {},
   "outputs": [
    {
     "data": {
      "image/png": "[encoded data removed]",
      "text/plain": [
       "<Figure size 432x288 with 1 Axes>"
      ]
     },
     "metadata": {
      "needs_background": "light"
     },
     "output_type": "display_data"
    },
    {
     "data": {
      "image/png": "[encoded data removed]",
      "text/plain": [
       "<Figure size 432x288 with 1 Axes>"
      ]
     },
     "metadata": {
      "needs_background": "light"
     },
     "output_type": "display_data"
    }
   ],
   "source": [
    "auc = history.history['auc_3']\n",
    "val_auc = history.history['val_auc_3']\n",
    "auc_loss = history.history['loss']\n",
    "val_loss = history.history['val_loss']\n",
    "\n",
    "epochs = range(1, len(auc)+1)\n",
    "\n",
    "plt.plot(epochs, auc, 'bo', label='Training AUC')\n",
    "plt.plot(epochs, val_auc, 'b', label='Validation AUC')\n",
    "plt.title(\"Training and validation AUC\")\n",
    "plt.legend()\n",
    "\n",
    "plt.figure()\n",
    "\n",
    "plt.plot(epochs, auc_loss, 'bo', label='Training Loss')\n",
    "plt.plot(epochs, val_loss, 'b', label='Validation Loss')\n",
    "plt.title(\"Training and Validation Loss\")\n",
    "plt.legend()\n",
    "\n",
    "plt.show()"
   ]
  },
  {
   "cell_type": "markdown",
   "metadata": {},
   "source": [
    "# Classification on Mix(Fei Face + JAFFE) Dataset"
   ]
  },
  {
   "cell_type": "markdown",
   "metadata": {},
   "source": [
    "## Reading Filenames\n",
    "* os.getcwd() function will get the current working directory"
   ]
  },
  {
   "cell_type": "code",
   "execution_count": 58,
   "metadata": {},
   "outputs": [],
   "source": [
    "train_dir = os.getcwd() + \"\\\\good_and_bad_moods\\\\mix\\\\train\"\n",
    "validation_dir = os.getcwd() + \"\\\\good_and_bad_moods\\\\test\""
   ]
  },
  {
   "cell_type": "markdown",
   "metadata": {},
   "source": [
    "## Convolutional Neural Network Model\n",
    "* There are 3 convolutional layers with Max pooling layers to extract major features from the image.\n",
    "* Dropout layers have been added to avoid overfitting.\n",
    "* Fatten layer has been added to convert the image into a (n x 1) tensor to feed into a fully connected layer.\n",
    "* Model is being compiled in the end.\n",
    "* The loss function has been set to binary cross entropy as it generally results in better training on binary classes."
   ]
  },
  {
   "cell_type": "code",
   "execution_count": 59,
   "metadata": {},
   "outputs": [],
   "source": [
    "model_4 = models.Sequential()\n",
    "\n",
    "model_4.add(layers.Conv2D(16, (3, 3), activation='relu', input_shape=(50, 50, 3)))\n",
    "model_4.add(layers.MaxPooling2D((2, 2)))\n",
    "model_4.add(layers.Conv2D(32, (3, 3), activation='relu'))\n",
    "model_4.add(layers.MaxPooling2D((2, 2)))\n",
    "model_4.add(layers.Conv2D(64, (3, 3), activation='relu'))\n",
    "model_4.add(layers.MaxPooling2D((2, 2)))\n",
    "model_4.add(layers.Conv2D(128, (3, 3), activation='relu'))\n",
    "model_4.add(layers.MaxPooling2D((2, 2)))\n",
    "model_4.add(layers.Flatten())\n",
    "model_4.add(layers.Dropout(0.5))\n",
    "model_4.add(layers.Dense(256, activation='relu'))\n",
    "model_4.add(layers.Dense(1, activation='sigmoid'))\n",
    "\n",
    "model_4.compile(loss='binary_crossentropy',\n",
    "            optimizer=optimizers.RMSprop(lr=1e-4),\n",
    "            metrics=['acc'])"
   ]
  },
  {
   "cell_type": "markdown",
   "metadata": {},
   "source": [
    "## Saving the model with the best accuracy\n",
    "* The library helps in saving the model with the best accuracy during the training phase."
   ]
  },
  {
   "cell_type": "code",
   "execution_count": 60,
   "metadata": {},
   "outputs": [],
   "source": [
    "from keras.callbacks import ModelCheckpoint\n",
    "mc = ModelCheckpoint('mix_good_and_bad_moods.hdf5', monitor='val_acc', verbose=1, save_best_only=True, mode='max')"
   ]
  },
  {
   "cell_type": "markdown",
   "metadata": {},
   "source": [
    "## Loading Training and Testing Data of MIX ( Fei Face + JAFFE) Dataset\n",
    "### The following steps are being done in the following code cell\n",
    "* Setting up train and test Image data generators with data augmentation to increase the size of the datasets and to avoid overfitting\n",
    "* The hyperparameters in the ImageDataGenerator direct how the images are to be augmented.\n",
    "* Having the data generators to direct image data from the directories to the model without having us to manually direct them.\n",
    "* The no. of epochs has has been set to 20 as that is deemed enough to properly train a small model from scratch.\n",
    "* The class_mode has been set to binary as there are only 2 classes to classify.\n",
    "* Training is performed on the MIX ( Fei Face + JAFFE) dataset and testing is done on Joey's private collection."
   ]
  },
  {
   "cell_type": "code",
   "execution_count": 61,
   "metadata": {},
   "outputs": [],
   "source": [
    "train_datagen = ImageDataGenerator(rescale=1./255,\n",
    "                                  rotation_range=40,\n",
    "                                  width_shift_range=0.2,\n",
    "                                  height_shift_range=0.2,\n",
    "                                  shear_range=0.2,\n",
    "                                  zoom_range=0.2,\n",
    "                                  horizontal_flip=True)\n",
    "\n",
    "test_datagen = ImageDataGenerator(rescale=1./255)"
   ]
  },
  {
   "cell_type": "code",
   "execution_count": 62,
   "metadata": {},
   "outputs": [
    {
     "name": "stdout",
     "output_type": "stream",
     "text": [
      "Found 465 images belonging to 2 classes.\n",
      "Found 40 images belonging to 2 classes.\n",
      "Epoch 1/20\n",
      "150/150 [==============================] - 22s 144ms/step - loss: 0.6870 - acc: 0.5591 - val_loss: 0.7071 - val_acc: 0.5000\n",
      "\n",
      "Epoch 00001: val_acc improved from -inf to 0.50000, saving model to mix_good_and_bad_moods.hdf5\n",
      "Epoch 2/20\n",
      "150/150 [==============================] - 21s 139ms/step - loss: 0.6807 - acc: 0.5811 - val_loss: 0.7029 - val_acc: 0.5000\n",
      "\n",
      "Epoch 00002: val_acc did not improve from 0.50000\n",
      "Epoch 3/20\n",
      "150/150 [==============================] - 21s 139ms/step - loss: 0.6650 - acc: 0.6355 - val_loss: 0.7134 - val_acc: 0.5250\n",
      "\n",
      "Epoch 00003: val_acc improved from 0.50000 to 0.52500, saving model to mix_good_and_bad_moods.hdf5\n",
      "Epoch 4/20\n",
      "150/150 [==============================] - 21s 140ms/step - loss: 0.6184 - acc: 0.6901 - val_loss: 0.7197 - val_acc: 0.4500\n",
      "\n",
      "Epoch 00004: val_acc did not improve from 0.52500\n",
      "Epoch 5/20\n",
      "150/150 [==============================] - 21s 139ms/step - loss: 0.5764 - acc: 0.7058 - val_loss: 0.7287 - val_acc: 0.4750\n",
      "\n",
      "Epoch 00005: val_acc did not improve from 0.52500\n",
      "Epoch 6/20\n",
      "150/150 [==============================] - 21s 139ms/step - loss: 0.5447 - acc: 0.7348 - val_loss: 0.7432 - val_acc: 0.4750\n",
      "\n",
      "Epoch 00006: val_acc did not improve from 0.52500\n",
      "Epoch 7/20\n",
      "150/150 [==============================] - 21s 139ms/step - loss: 0.5220 - acc: 0.7467 - val_loss: 0.7142 - val_acc: 0.5250\n",
      "\n",
      "Epoch 00007: val_acc did not improve from 0.52500\n",
      "Epoch 8/20\n",
      "150/150 [==============================] - 21s 139ms/step - loss: 0.5114 - acc: 0.7452 - val_loss: 0.7069 - val_acc: 0.5500\n",
      "\n",
      "Epoch 00008: val_acc improved from 0.52500 to 0.55000, saving model to mix_good_and_bad_moods.hdf5\n",
      "Epoch 9/20\n",
      "150/150 [==============================] - 21s 139ms/step - loss: 0.4959 - acc: 0.7630 - val_loss: 0.6912 - val_acc: 0.5750\n",
      "\n",
      "Epoch 00009: val_acc improved from 0.55000 to 0.57500, saving model to mix_good_and_bad_moods.hdf5\n",
      "Epoch 10/20\n",
      "150/150 [==============================] - 21s 137ms/step - loss: 0.4822 - acc: 0.7697 - val_loss: 0.6879 - val_acc: 0.5250\n",
      "\n",
      "Epoch 00010: val_acc did not improve from 0.57500\n",
      "Epoch 11/20\n",
      "150/150 [==============================] - 21s 143ms/step - loss: 0.4654 - acc: 0.7819 - val_loss: 0.6854 - val_acc: 0.4750\n",
      "\n",
      "Epoch 00011: val_acc did not improve from 0.57500\n",
      "Epoch 12/20\n",
      "150/150 [==============================] - 21s 138ms/step - loss: 0.4571 - acc: 0.7841 - val_loss: 0.6661 - val_acc: 0.5500\n",
      "\n",
      "Epoch 00012: val_acc did not improve from 0.57500\n",
      "Epoch 13/20\n",
      "150/150 [==============================] - 21s 141ms/step - loss: 0.4516 - acc: 0.7892 - val_loss: 0.6607 - val_acc: 0.5750\n",
      "\n",
      "Epoch 00013: val_acc did not improve from 0.57500\n",
      "Epoch 14/20\n",
      "150/150 [==============================] - 21s 138ms/step - loss: 0.4430 - acc: 0.7927 - val_loss: 0.6556 - val_acc: 0.5500\n",
      "\n",
      "Epoch 00014: val_acc did not improve from 0.57500\n",
      "Epoch 15/20\n",
      "150/150 [==============================] - 21s 141ms/step - loss: 0.4266 - acc: 0.8006 - val_loss: 0.6610 - val_acc: 0.6250\n",
      "\n",
      "Epoch 00015: val_acc improved from 0.57500 to 0.62500, saving model to mix_good_and_bad_moods.hdf5\n",
      "Epoch 16/20\n",
      "150/150 [==============================] - 21s 143ms/step - loss: 0.4260 - acc: 0.8002 - val_loss: 0.6479 - val_acc: 0.6750\n",
      "\n",
      "Epoch 00016: val_acc improved from 0.62500 to 0.67500, saving model to mix_good_and_bad_moods.hdf5\n",
      "Epoch 17/20\n",
      "150/150 [==============================] - 21s 142ms/step - loss: 0.4164 - acc: 0.7994 - val_loss: 0.6350 - val_acc: 0.6250\n",
      "\n",
      "Epoch 00017: val_acc did not improve from 0.67500\n",
      "Epoch 18/20\n",
      "150/150 [==============================] - 21s 142ms/step - loss: 0.4059 - acc: 0.8067 - val_loss: 0.6504 - val_acc: 0.6250\n",
      "\n",
      "Epoch 00018: val_acc did not improve from 0.67500\n",
      "Epoch 19/20\n",
      "150/150 [==============================] - 21s 142ms/step - loss: 0.4022 - acc: 0.8082 - val_loss: 0.7297 - val_acc: 0.6500\n",
      "\n",
      "Epoch 00019: val_acc did not improve from 0.67500\n",
      "Epoch 20/20\n",
      "150/150 [==============================] - 21s 141ms/step - loss: 0.3920 - acc: 0.8161 - val_loss: 0.6802 - val_acc: 0.6500\n",
      "\n",
      "Epoch 00020: val_acc did not improve from 0.67500\n"
     ]
    }
   ],
   "source": [
    "train_generator = train_datagen.flow_from_directory(train_dir,\n",
    "                                                   target_size=(50, 50),\n",
    "                                                   batch_size=32,\n",
    "                                                   class_mode='binary')\n",
    "\n",
    "validation_generator = test_datagen.flow_from_directory(validation_dir,\n",
    "                                                        target_size=(50, 50),\n",
    "                                                        batch_size=40,\n",
    "                                                        class_mode='binary')\n",
    "\n",
    "history = model_4.fit_generator(train_generator,\n",
    "                            steps_per_epoch=150,\n",
    "                            epochs=20,\n",
    "                            callbacks=[mc],\n",
    "                            validation_data=validation_generator,\n",
    "                            validation_steps=100)"
   ]
  },
  {
   "cell_type": "markdown",
   "metadata": {},
   "source": [
    "## Graphs of the Results"
   ]
  },
  {
   "cell_type": "code",
   "execution_count": 63,
   "metadata": {},
   "outputs": [
    {
     "data": {
      "image/png": "[encoded data removed]",
      "text/plain": [
       "<Figure size 432x288 with 1 Axes>"
      ]
     },
     "metadata": {
      "needs_background": "light"
     },
     "output_type": "display_data"
    },
    {
     "data": {
      "image/png": "[encoded data removed]",
      "text/plain": [
       "<Figure size 432x288 with 1 Axes>"
      ]
     },
     "metadata": {
      "needs_background": "light"
     },
     "output_type": "display_data"
    }
   ],
   "source": [
    "acc = history.history['acc']\n",
    "val_acc = history.history['val_acc']\n",
    "loss = history.history['loss']\n",
    "val_loss = history.history['val_loss']\n",
    "\n",
    "epochs = range(1, len(acc)+1)\n",
    "\n",
    "plt.plot(epochs, acc, 'bo', label='Training Accuracy')\n",
    "plt.plot(epochs, val_acc, 'b', label='Validation Accuracy')\n",
    "plt.title(\"Training and validation accuracy\")\n",
    "plt.legend()\n",
    "\n",
    "plt.figure()\n",
    "\n",
    "plt.plot(epochs, loss, 'bo', label='Training Loss')\n",
    "plt.plot(epochs, val_loss, 'b', label='Validation Loss')\n",
    "plt.title(\"Training and Validation Loss\")\n",
    "plt.legend()\n",
    "\n",
    "plt.show()"
   ]
  },
  {
   "cell_type": "markdown",
   "metadata": {},
   "source": [
    "# Classification on Mix(Fei Face + JAFFE) Dataset (Area Under Curve Evaluation)"
   ]
  },
  {
   "cell_type": "markdown",
   "metadata": {},
   "source": [
    "## Reading Filenames\n",
    "* os.getcwd() function will get the current working directory"
   ]
  },
  {
   "cell_type": "code",
   "execution_count": 44,
   "metadata": {},
   "outputs": [],
   "source": [
    "train_dir = os.getcwd() + \"\\\\good_and_bad_moods\\\\mix\\\\train\"\n",
    "validation_dir = os.getcwd() + \"\\\\good_and_bad_moods\\\\test\""
   ]
  },
  {
   "cell_type": "markdown",
   "metadata": {},
   "source": [
    "## Convolutional Neural Network Model\n",
    "* There are 3 convolutional layers with Max pooling layers to extract major features from the image.\n",
    "* Dropout layers have been added to avoid overfitting.\n",
    "* Fatten layer has been added to convert the image into a (n x 1) tensor to feed into a fully connected layer.\n",
    "* Model is being compiled in the end.\n",
    "* The loss function has been set to binary cross entropy as it generally results in better training on binary classes."
   ]
  },
  {
   "cell_type": "code",
   "execution_count": 45,
   "metadata": {},
   "outputs": [],
   "source": [
    "model_5 = models.Sequential()\n",
    "\n",
    "model_5.add(layers.Conv2D(16, (3, 3), activation='relu', input_shape=(50, 50, 3)))\n",
    "model_5.add(layers.MaxPooling2D((2, 2)))\n",
    "model_5.add(layers.Conv2D(32, (3, 3), activation='relu'))\n",
    "model_5.add(layers.MaxPooling2D((2, 2)))\n",
    "model_5.add(layers.Conv2D(64, (3, 3), activation='relu'))\n",
    "model_5.add(layers.MaxPooling2D((2, 2)))\n",
    "model_5.add(layers.Conv2D(128, (3, 3), activation='relu'))\n",
    "model_5.add(layers.MaxPooling2D((2, 2)))\n",
    "model_5.add(layers.Flatten())\n",
    "model_5.add(layers.Dropout(0.5))\n",
    "model_5.add(layers.Dense(256, activation='relu'))\n",
    "model_5.add(layers.Dense(1, activation='sigmoid'))\n",
    "\n",
    "model_5.compile(loss='binary_crossentropy',\n",
    "            optimizer=optimizers.RMSprop(lr=1e-4),\n",
    "            metrics=[metrics.AUC()])"
   ]
  },
  {
   "cell_type": "markdown",
   "metadata": {},
   "source": [
    "## Saving the model with the best accuracy\n",
    "* The library helps in saving the model with the best accuracy during the training phase."
   ]
  },
  {
   "cell_type": "code",
   "execution_count": 46,
   "metadata": {},
   "outputs": [],
   "source": [
    "from keras.callbacks import ModelCheckpoint\n",
    "mc = ModelCheckpoint('mix_good_and_bad_moods_auc.hdf5', monitor='val_acc', verbose=1, save_best_only=True, mode='max')"
   ]
  },
  {
   "cell_type": "markdown",
   "metadata": {},
   "source": [
    "## Loading Training and Testing Data of MIX ( Fei Face + JAFFE) Dataset\n",
    "### The following steps are being done in the following code cell\n",
    "* Setting up train and test Image data generators with data augmentation to increase the size of the datasets and to avoid overfitting\n",
    "* The hyperparameters in the ImageDataGenerator direct how the images are to be augmented.\n",
    "* Having the data generators to direct image data from the directories to the model without having us to manually direct them.\n",
    "* The no. of epochs has has been set to 20 as that is deemed enough to properly train a small model from scratch.\n",
    "* The class_mode has been set to binary as there are only 2 classes to classify.\n",
    "* Training is performed on the JAFFE dataset and testing is done on Joey's private collection."
   ]
  },
  {
   "cell_type": "code",
   "execution_count": 47,
   "metadata": {},
   "outputs": [],
   "source": [
    "train_datagen = ImageDataGenerator(rescale=1./255,\n",
    "                                  rotation_range=40,\n",
    "                                  width_shift_range=0.2,\n",
    "                                  height_shift_range=0.2,\n",
    "                                  shear_range=0.2,\n",
    "                                  zoom_range=0.2,\n",
    "                                  horizontal_flip=True)\n",
    "\n",
    "test_datagen = ImageDataGenerator(rescale=1./255)"
   ]
  },
  {
   "cell_type": "code",
   "execution_count": 48,
   "metadata": {},
   "outputs": [
    {
     "name": "stdout",
     "output_type": "stream",
     "text": [
      "Found 465 images belonging to 2 classes.\n",
      "Found 40 images belonging to 2 classes.\n",
      "Epoch 1/20\n",
      "150/150 [==============================] - 22s 150ms/step - loss: 0.6863 - auc_2: 0.4984 - val_loss: 0.7084 - val_auc_2: 0.3313\n",
      "Epoch 2/20\n",
      "150/150 [==============================] - 21s 143ms/step - loss: 0.6813 - auc_2: 0.5563 - val_loss: 0.7071 - val_auc_2: 0.3987\n",
      "Epoch 3/20\n",
      "150/150 [==============================] - 21s 139ms/step - loss: 0.6685 - auc_2: 0.6201 - val_loss: 0.7500 - val_auc_2: 0.3162\n",
      "Epoch 4/20\n",
      "150/150 [==============================] - 21s 140ms/step - loss: 0.6507 - auc_2: 0.6651 - val_loss: 0.7628 - val_auc_2: 0.3562\n",
      "Epoch 5/20\n",
      "150/150 [==============================] - 21s 140ms/step - loss: 0.6182 - auc_2: 0.7145 - val_loss: 0.7505 - val_auc_2: 0.4187\n",
      "Epoch 6/20\n",
      "150/150 [==============================] - 21s 140ms/step - loss: 0.5944 - auc_2: 0.7334 - val_loss: 0.7069 - val_auc_2: 0.5087\n",
      "Epoch 7/20\n",
      "150/150 [==============================] - 21s 139ms/step - loss: 0.5697 - auc_2: 0.7589 - val_loss: 0.7266 - val_auc_2: 0.5038\n",
      "Epoch 8/20\n",
      "150/150 [==============================] - 21s 138ms/step - loss: 0.5490 - auc_2: 0.7749 - val_loss: 0.7617 - val_auc_2: 0.5088\n",
      "Epoch 9/20\n",
      "150/150 [==============================] - 22s 143ms/step - loss: 0.5311 - auc_2: 0.7949 - val_loss: 0.6863 - val_auc_2: 0.5400\n",
      "Epoch 10/20\n",
      "150/150 [==============================] - 21s 138ms/step - loss: 0.5146 - auc_2: 0.8038 - val_loss: 0.6492 - val_auc_2: 0.6025\n",
      "Epoch 11/20\n",
      "150/150 [==============================] - 21s 137ms/step - loss: 0.4969 - auc_2: 0.8202 - val_loss: 0.6671 - val_auc_2: 0.5687\n",
      "Epoch 12/20\n",
      "150/150 [==============================] - 21s 138ms/step - loss: 0.4772 - auc_2: 0.8317 - val_loss: 0.6237 - val_auc_2: 0.6338\n",
      "Epoch 13/20\n",
      "150/150 [==============================] - 21s 139ms/step - loss: 0.4678 - auc_2: 0.8385 - val_loss: 0.6589 - val_auc_2: 0.6012\n",
      "Epoch 14/20\n",
      "150/150 [==============================] - 22s 145ms/step - loss: 0.4655 - auc_2: 0.8405 - val_loss: 0.6443 - val_auc_2: 0.6050\n",
      "Epoch 15/20\n",
      "150/150 [==============================] - 21s 139ms/step - loss: 0.4538 - auc_2: 0.8535 - val_loss: 0.6841 - val_auc_2: 0.5875\n",
      "Epoch 16/20\n",
      "150/150 [==============================] - 21s 138ms/step - loss: 0.4398 - auc_2: 0.8587 - val_loss: 0.6240 - val_auc_2: 0.6550\n",
      "Epoch 17/20\n",
      "150/150 [==============================] - 21s 138ms/step - loss: 0.4307 - auc_2: 0.8633 - val_loss: 0.6627 - val_auc_2: 0.6712\n",
      "Epoch 18/20\n",
      "150/150 [==============================] - 21s 138ms/step - loss: 0.4183 - auc_2: 0.8753 - val_loss: 0.6468 - val_auc_2: 0.6762\n",
      "Epoch 19/20\n",
      "150/150 [==============================] - 21s 143ms/step - loss: 0.4083 - auc_2: 0.8776 - val_loss: 0.5967 - val_auc_2: 0.7525\n",
      "Epoch 20/20\n",
      "150/150 [==============================] - 22s 145ms/step - loss: 0.4112 - auc_2: 0.8754 - val_loss: 0.5928 - val_auc_2: 0.7563\n"
     ]
    }
   ],
   "source": [
    "train_generator = train_datagen.flow_from_directory(train_dir,\n",
    "                                                   target_size=(50, 50),\n",
    "                                                   batch_size=32,\n",
    "                                                   class_mode='binary')\n",
    "\n",
    "validation_generator = test_datagen.flow_from_directory(validation_dir,\n",
    "                                                        target_size=(50, 50),\n",
    "                                                        batch_size=40,\n",
    "                                                        class_mode='binary')\n",
    "\n",
    "history = model_5.fit_generator(train_generator,\n",
    "                            steps_per_epoch=150,\n",
    "                            epochs=20,\n",
    "                            callbacks=[mc],\n",
    "                            validation_data=validation_generator,\n",
    "                            validation_steps=100)"
   ]
  },
  {
   "cell_type": "markdown",
   "metadata": {},
   "source": [
    "## Graphs of the Results"
   ]
  },
  {
   "cell_type": "code",
   "execution_count": 50,
   "metadata": {},
   "outputs": [
    {
     "data": {
      "image/png": "[encoded data removed]",
      "text/plain": [
       "<Figure size 432x288 with 1 Axes>"
      ]
     },
     "metadata": {
      "needs_background": "light"
     },
     "output_type": "display_data"
    },
    {
     "data": {
      "image/png": "[encoded data removed]",
      "text/plain": [
       "<Figure size 432x288 with 1 Axes>"
      ]
     },
     "metadata": {
      "needs_background": "light"
     },
     "output_type": "display_data"
    }
   ],
   "source": [
    "auc = history.history['auc_2']\n",
    "val_auc = history.history['val_auc_2']\n",
    "auc_loss = history.history['loss']\n",
    "val_loss = history.history['val_loss']\n",
    "\n",
    "epochs = range(1, len(auc)+1)\n",
    "\n",
    "plt.plot(epochs, auc, 'bo', label='Training AUC')\n",
    "plt.plot(epochs, val_auc, 'b', label='Validation AUC')\n",
    "plt.title(\"Training and validation AUC\")\n",
    "plt.legend()\n",
    "\n",
    "plt.figure()\n",
    "\n",
    "plt.plot(epochs, auc_loss, 'bo', label='Training Loss')\n",
    "plt.plot(epochs, val_loss, 'b', label='Validation Loss')\n",
    "plt.title(\"Training and Validation Loss\")\n",
    "plt.legend()\n",
    "\n",
    "plt.show()"
   ]
  },
  {
   "cell_type": "markdown",
   "metadata": {},
   "source": [
    "## TESTING THE MODELS ON TEST DATA"
   ]
  },
  {
   "cell_type": "code",
   "execution_count": 10,
   "metadata": {},
   "outputs": [
    {
     "name": "stdout",
     "output_type": "stream",
     "text": [
      "Found 40 images belonging to 2 classes.\n",
      "[[False]\n",
      " [False]\n",
      " [ True]\n",
      " [ True]\n",
      " [ True]\n",
      " [False]\n",
      " [False]\n",
      " [False]\n",
      " [False]\n",
      " [False]\n",
      " [False]\n",
      " [False]\n",
      " [False]\n",
      " [False]\n",
      " [False]\n",
      " [False]\n",
      " [ True]\n",
      " [False]\n",
      " [False]\n",
      " [ True]\n",
      " [ True]\n",
      " [ True]\n",
      " [ True]\n",
      " [ True]\n",
      " [ True]\n",
      " [ True]\n",
      " [ True]\n",
      " [False]\n",
      " [ True]\n",
      " [ True]\n",
      " [False]\n",
      " [ True]\n",
      " [ True]\n",
      " [False]\n",
      " [ True]\n",
      " [ True]\n",
      " [False]\n",
      " [ True]\n",
      " [ True]\n",
      " [ True]]\n"
     ]
    }
   ],
   "source": [
    "import numpy as np\n",
    "\n",
    "test_datagen = ImageDataGenerator(rescale=1./255)\n",
    "test_dir = \"D:/Anaconda_Projects/Jupyter_Notebooks/good_and_bad_moods/test\"\n",
    "\n",
    "test_generator = test_datagen.flow_from_directory(\n",
    "        test_dir,\n",
    "        target_size=(50, 50),\n",
    "        shuffle = False,\n",
    "        class_mode='binary',\n",
    "        batch_size=1)\n",
    "\n",
    "filenames = test_generator.filenames\n",
    "test_generator.reset()\n",
    "# print(filenames)\n",
    "nb_samples = 40\n",
    "\n",
    "predict = model_4.predict_generator(test_generator, steps=40)\n",
    "print(predict > 0.5)"
   ]
  },
  {
   "cell_type": "code",
   "execution_count": 12,
   "metadata": {},
   "outputs": [
    {
     "name": "stdout",
     "output_type": "stream",
     "text": [
      "{0: 'bad', 1: 'good'}\n"
     ]
    }
   ],
   "source": [
    "predicted_class_indices=np.argmax(predict,axis=1)\n",
    "labels = (train_generator.class_indices)\n",
    "labels = dict((v,k) for k,v in labels.items())\n",
    "predictions = [labels[k] for k in predicted_class_indices]\n",
    "print(labels)"
   ]
  },
  {
   "cell_type": "code",
   "execution_count": null,
   "metadata": {},
   "outputs": [],
   "source": []
  }
 ],
 "metadata": {
  "kernelspec": {
   "display_name": "Python 3",
   "language": "python",
   "name": "python3"
  },
  "language_info": {
   "codemirror_mode": {
    "name": "ipython",
    "version": 3
   },
   "file_extension": ".py",
   "mimetype": "text/x-python",
   "name": "python",
   "nbconvert_exporter": "python",
   "pygments_lexer": "ipython3",
   "version": "3.6.8"
  }
 },
 "nbformat": 4,
 "nbformat_minor": 2
}
