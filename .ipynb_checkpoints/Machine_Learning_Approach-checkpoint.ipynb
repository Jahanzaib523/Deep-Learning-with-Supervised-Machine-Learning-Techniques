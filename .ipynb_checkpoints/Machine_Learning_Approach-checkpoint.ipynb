{
 "cells": [
  {
   "cell_type": "markdown",
   "metadata": {},
   "source": [
    "# Import Libraries"
   ]
  },
  {
   "cell_type": "code",
   "execution_count": 1,
   "metadata": {},
   "outputs": [],
   "source": [
    "import os\n",
    "import cv2\n",
    "from skimage.color import rgb2gray\n",
    "from sklearn.neighbors import KNeighborsClassifier\n",
    "from sklearn.metrics import accuracy_score\n",
    "from sklearn.metrics import f1_score"
   ]
  },
  {
   "cell_type": "markdown",
   "metadata": {},
   "source": [
    "# Classification on Fei Face Dataset"
   ]
  },
  {
   "cell_type": "markdown",
   "metadata": {},
   "source": [
    "## Reading Filenames\n",
    "* os.getcwd() function will get the current working directory\n",
    "* os.listdir() function will get all the file names in a directory"
   ]
  },
  {
   "cell_type": "code",
   "execution_count": 2,
   "metadata": {},
   "outputs": [],
   "source": [
    "#Simply going to the dataset directory and getting all the filenames\n",
    "train_path_good=os.getcwd()+\"\\\\good_and_bad_moods\\\\brazil\\\\brazil_dataset\\\\train\\\\good\"\n",
    "train_files_good=os.listdir(train_path_good)\n",
    "if 'desktop.ini' in train_files_good:\n",
    "    train_files_good.remove('desktop.ini')\n",
    "    \n",
    "train_path_bad=os.getcwd()+\"\\\\good_and_bad_moods\\\\brazil\\\\brazil_dataset\\\\train\\\\bad\"\n",
    "train_files_bad=os.listdir(train_path_bad)\n",
    "if 'desktop.ini' in train_files_bad:\n",
    "    train_files_bad.remove('desktop.ini')\n",
    "    \n",
    "test_path_good=os.getcwd()+\"\\\\good_and_bad_moods\\\\brazil\\\\brazil_dataset\\\\validation\\\\good\"\n",
    "test_files_good=os.listdir(test_path_good)\n",
    "if 'desktop.ini' in test_files_good:\n",
    "    test_files_good.remove('desktop.ini')\n",
    "    \n",
    "test_path_bad=os.getcwd()+\"\\\\good_and_bad_moods\\\\brazil\\\\brazil_dataset\\\\validation\\\\bad\"\n",
    "test_files_bad=os.listdir(test_path_bad)\n",
    "if 'desktop.ini' in test_files_bad:\n",
    "    test_files_bad.remove('desktop.ini')"
   ]
  },
  {
   "cell_type": "markdown",
   "metadata": {},
   "source": [
    "## Initializing Variables\n",
    "* trainX will contain all the training images from Fei Face Dataset\n",
    "* trainY will contain all the corresponding training labels from Fei Face Dataset\n",
    "* testX will contain all the testing images from Fei Face Dataset\n",
    "* testY will contain all the corresponding testing labels from Fei Face Dataset"
   ]
  },
  {
   "cell_type": "code",
   "execution_count": 3,
   "metadata": {},
   "outputs": [],
   "source": [
    "size=(64, 64)\n",
    "trainX=[]\n",
    "trainY=[]\n",
    "testX=[]\n",
    "testY=[]"
   ]
  },
  {
   "cell_type": "markdown",
   "metadata": {},
   "source": [
    "## Loading Training and Testing Data of Fei Face Dataset\n",
    "### The following steps are being done in the following code cell\n",
    "* Reading the image through cv2.imread() function as we already have the path to the files calculated above\n",
    "* Converting the rgb image to grey scale\n",
    "* Resizing the image to 64 x 64\n",
    "* Flattening it to get a single dimension\n",
    "* Appending it in the corresponding list"
   ]
  },
  {
   "cell_type": "code",
   "execution_count": 4,
   "metadata": {},
   "outputs": [],
   "source": [
    "for file_name in train_files_good:\n",
    "    image=cv2.imread(os.path.join(train_path_good,file_name))\n",
    "    trainX.append(cv2.resize(rgb2gray(image), size).flatten())\n",
    "    trainY.append(1)\n",
    "    \n",
    "for file_name in train_files_bad:\n",
    "    image=cv2.imread(os.path.join(train_path_bad,file_name))\n",
    "    trainX.append(cv2.resize(rgb2gray(image), size).flatten())\n",
    "    trainY.append(0)\n",
    "    \n",
    "for file_name in test_files_good:\n",
    "    image=cv2.imread(os.path.join(test_path_good,file_name))\n",
    "    testX.append(cv2.resize(rgb2gray(image), size).flatten())\n",
    "    testY.append(1)\n",
    "    \n",
    "for file_name in test_files_bad:\n",
    "    image=cv2.imread(os.path.join(test_path_bad,file_name))\n",
    "    testX.append(cv2.resize(rgb2gray(image), size).flatten())\n",
    "    testY.append(0)"
   ]
  },
  {
   "cell_type": "markdown",
   "metadata": {},
   "source": [
    "## Training and Testing Images"
   ]
  },
  {
   "cell_type": "code",
   "execution_count": 5,
   "metadata": {},
   "outputs": [
    {
     "name": "stdout",
     "output_type": "stream",
     "text": [
      "Training images are =  300\n",
      "Testing images are =  100\n"
     ]
    }
   ],
   "source": [
    "print(\"Training images are = \",len(trainX))\n",
    "print(\"Testing images are = \",len(testX))"
   ]
  },
  {
   "cell_type": "markdown",
   "metadata": {},
   "source": [
    "## K Nearest Neighbour Classifier\n",
    "### Number of Neighbours were set to 3\n",
    "After training the classifier for different number of neighbours. The neighbours with 3 value gave the best result"
   ]
  },
  {
   "cell_type": "code",
   "execution_count": 6,
   "metadata": {},
   "outputs": [
    {
     "name": "stdout",
     "output_type": "stream",
     "text": [
      "Model Training Started.....\n",
      "Model Trained.\n"
     ]
    }
   ],
   "source": [
    "print(\"Model Training Started.....\")\n",
    "knn = KNeighborsClassifier(n_neighbors=3,n_jobs=-1)\n",
    "knn.fit(trainX, trainY)\n",
    "print(\"Model Trained.\")"
   ]
  },
  {
   "cell_type": "markdown",
   "metadata": {},
   "source": [
    "### Prediction on test cases"
   ]
  },
  {
   "cell_type": "code",
   "execution_count": 7,
   "metadata": {},
   "outputs": [],
   "source": [
    "predY = knn.predict(testX)"
   ]
  },
  {
   "cell_type": "markdown",
   "metadata": {},
   "source": [
    "### Evaluation Metric = Accuracy\n",
    "The model gives 90% Accuracy on the test images from the Fei Face Dataset"
   ]
  },
  {
   "cell_type": "code",
   "execution_count": 8,
   "metadata": {},
   "outputs": [
    {
     "name": "stdout",
     "output_type": "stream",
     "text": [
      "Model test accuracy is:  0.9\n"
     ]
    }
   ],
   "source": [
    "accuracy = accuracy_score(testY, predY)\n",
    "print('Model test accuracy is: ', accuracy)"
   ]
  },
  {
   "cell_type": "markdown",
   "metadata": {},
   "source": [
    "### Evaluation Metric = F1 Score\n",
    "The F1 score of the model is 0.89 on the test images from the Fei Face Dataset"
   ]
  },
  {
   "cell_type": "code",
   "execution_count": 9,
   "metadata": {},
   "outputs": [
    {
     "name": "stdout",
     "output_type": "stream",
     "text": [
      "F1 score is:  0.8936170212765958\n"
     ]
    }
   ],
   "source": [
    "f1score = f1_score(testY, predY)\n",
    "print('F1 score is: ', f1score)"
   ]
  },
  {
   "cell_type": "markdown",
   "metadata": {},
   "source": [
    "# Testing on Joel's private collection\n",
    "### Reading File names"
   ]
  },
  {
   "cell_type": "code",
   "execution_count": 10,
   "metadata": {},
   "outputs": [],
   "source": [
    "joel_test_path_good=os.getcwd()+\"\\\\good_and_bad_moods\\\\test\\\\good\"\n",
    "joel_test_files_good=os.listdir(joel_test_path_good)\n",
    "if 'desktop.ini' in joel_test_files_good:\n",
    "    joel_test_files_good.remove('desktop.ini')\n",
    "\n",
    "joel_test_path_bad=os.getcwd()+\"\\\\good_and_bad_moods\\\\test\\\\bad\"\n",
    "joel_test_files_bad=os.listdir(joel_test_path_bad)\n",
    "if 'desktop.ini' in joel_test_files_bad:\n",
    "    joel_test_files_bad.remove('desktop.ini')"
   ]
  },
  {
   "cell_type": "markdown",
   "metadata": {},
   "source": [
    "### Loading Testing Data from Joel's private collection"
   ]
  },
  {
   "cell_type": "code",
   "execution_count": 11,
   "metadata": {},
   "outputs": [
    {
     "name": "stdout",
     "output_type": "stream",
     "text": [
      "Joel private collection images are =  40\n"
     ]
    }
   ],
   "source": [
    "joel_images=[]\n",
    "joel_labels=[]\n",
    "\n",
    "for file_name in joel_test_files_good:\n",
    "    image=cv2.imread(os.path.join(joel_test_path_good,file_name))\n",
    "    joel_images.append(cv2.resize(rgb2gray(image), size).flatten())\n",
    "    joel_labels.append(1)\n",
    "    \n",
    "for file_name in joel_test_files_bad:\n",
    "    image=cv2.imread(os.path.join(joel_test_path_bad,file_name))\n",
    "    joel_images.append(cv2.resize(rgb2gray(image), size).flatten())\n",
    "    joel_labels.append(0)\n",
    "\n",
    "print(\"Joel private collection images are = \",len(joel_images))"
   ]
  },
  {
   "cell_type": "markdown",
   "metadata": {},
   "source": [
    "### Prediction on Test Data"
   ]
  },
  {
   "cell_type": "code",
   "execution_count": 12,
   "metadata": {},
   "outputs": [],
   "source": [
    "joel_pred = knn.predict(joel_images)"
   ]
  },
  {
   "cell_type": "markdown",
   "metadata": {},
   "source": [
    "### Evaluation Metric = Accuracy\n",
    "The model test accuracy on Joel's private collection is 62.5%"
   ]
  },
  {
   "cell_type": "code",
   "execution_count": 13,
   "metadata": {},
   "outputs": [
    {
     "name": "stdout",
     "output_type": "stream",
     "text": [
      "Model test accuracy is:  0.625\n"
     ]
    }
   ],
   "source": [
    "accuracy = accuracy_score(joel_labels, joel_pred)\n",
    "print('Model test accuracy is: ', accuracy)"
   ]
  },
  {
   "cell_type": "markdown",
   "metadata": {},
   "source": [
    "### Evaluation Metric = F1 Score\n",
    "The F1 score of the model on joel's private collection is 0.68"
   ]
  },
  {
   "cell_type": "code",
   "execution_count": 14,
   "metadata": {},
   "outputs": [
    {
     "name": "stdout",
     "output_type": "stream",
     "text": [
      "F1 score is:  0.6808510638297872\n"
     ]
    }
   ],
   "source": [
    "f1score = f1_score(joel_labels, joel_pred)\n",
    "print('F1 score is: ', f1score)"
   ]
  },
  {
   "cell_type": "markdown",
   "metadata": {},
   "source": [
    "# Classification on JAFFE Dataset\n",
    "## Reading Filenames\n",
    "* os.getcwd() function will get the current working directory\n",
    "* os.listdir() function will get all the file names in a directory"
   ]
  },
  {
   "cell_type": "code",
   "execution_count": 15,
   "metadata": {},
   "outputs": [],
   "source": [
    "#Simply going to the dataset directory and getting all the filenames\n",
    "train_path_good=os.getcwd()+\"\\\\good_and_bad_moods\\\\japanese\\\\jaffedbase\\\\train\\\\good\"\n",
    "train_files_good=os.listdir(train_path_good)\n",
    "if 'desktop.ini' in train_files_good:\n",
    "    train_files_good.remove('desktop.ini')\n",
    "    \n",
    "train_path_bad=os.getcwd()+\"\\\\good_and_bad_moods\\\\japanese\\\\jaffedbase\\\\train\\\\bad\"\n",
    "train_files_bad=os.listdir(train_path_bad)\n",
    "if 'desktop.ini' in train_files_bad:\n",
    "    train_files_bad.remove('desktop.ini')\n",
    "    \n",
    "test_path_good=os.getcwd()+\"\\\\good_and_bad_moods\\\\japanese\\\\jaffedbase\\\\validation\\\\good\"\n",
    "test_files_good=os.listdir(test_path_good)\n",
    "if 'desktop.ini' in test_files_good:\n",
    "    test_files_good.remove('desktop.ini')\n",
    "    \n",
    "test_path_bad=os.getcwd()+\"\\\\good_and_bad_moods\\\\japanese\\\\jaffedbase\\\\validation\\\\bad\"\n",
    "test_files_bad=os.listdir(test_path_bad)\n",
    "if 'desktop.ini' in test_files_bad:\n",
    "    test_files_bad.remove('desktop.ini')"
   ]
  },
  {
   "cell_type": "markdown",
   "metadata": {},
   "source": [
    "## Initializing Variables\n",
    "* trainX will contain all the training images from JAFFE Dataset\n",
    "* trainY will contain all the corresponding training labels from JAFFE Dataset\n",
    "* testX will contain all the testing images from JAFFE Dataset\n",
    "* testY will contain all the corresponding testing labels from JAFFE Dataset"
   ]
  },
  {
   "cell_type": "code",
   "execution_count": 16,
   "metadata": {},
   "outputs": [],
   "source": [
    "size=(64, 64)\n",
    "trainX=[]\n",
    "trainY=[]\n",
    "testX=[]\n",
    "testY=[]"
   ]
  },
  {
   "cell_type": "markdown",
   "metadata": {},
   "source": [
    "## Loading Training and Testing Data of JAFFE Dataset\n",
    "### The following steps are being done in the following code cell\n",
    "* Reading the image through cv2.imread() function as we already have the path to the files calculated above\n",
    "* Converting the rgb image to grey scale\n",
    "* Resizing the image to 64 x 64\n",
    "* Flattening it to get a single dimension\n",
    "* Appending it in the corresponding list"
   ]
  },
  {
   "cell_type": "code",
   "execution_count": 17,
   "metadata": {},
   "outputs": [],
   "source": [
    "for file_name in train_files_good:\n",
    "    image=cv2.imread(os.path.join(train_path_good,file_name))\n",
    "    trainX.append(cv2.resize(rgb2gray(image), size).flatten())\n",
    "    trainY.append(1)\n",
    "    \n",
    "for file_name in train_files_bad:\n",
    "    image=cv2.imread(os.path.join(train_path_bad,file_name))\n",
    "    trainX.append(cv2.resize(rgb2gray(image), size).flatten())\n",
    "    trainY.append(0)\n",
    "    \n",
    "for file_name in test_files_good:\n",
    "    image=cv2.imread(os.path.join(test_path_good,file_name))\n",
    "    testX.append(cv2.resize(rgb2gray(image), size).flatten())\n",
    "    testY.append(1)\n",
    "    \n",
    "for file_name in test_files_bad:\n",
    "    image=cv2.imread(os.path.join(test_path_bad,file_name))\n",
    "    testX.append(cv2.resize(rgb2gray(image), size).flatten())\n",
    "    testY.append(0)"
   ]
  },
  {
   "cell_type": "markdown",
   "metadata": {},
   "source": [
    "## Training and Testing Images"
   ]
  },
  {
   "cell_type": "code",
   "execution_count": 18,
   "metadata": {},
   "outputs": [
    {
     "name": "stdout",
     "output_type": "stream",
     "text": [
      "Training images are =  160\n",
      "Testing images are =  53\n"
     ]
    }
   ],
   "source": [
    "print(\"Training images are = \",len(trainX))\n",
    "print(\"Testing images are = \",len(testX))"
   ]
  },
  {
   "cell_type": "markdown",
   "metadata": {},
   "source": [
    "## K Nearest Neighbour Classifier\n",
    "### Number of Neighbours were set to 3\n",
    "After training the classifier for different number of neighbours. The neighbours with 3 value gave the best result"
   ]
  },
  {
   "cell_type": "code",
   "execution_count": 19,
   "metadata": {},
   "outputs": [
    {
     "name": "stdout",
     "output_type": "stream",
     "text": [
      "Model Training Started.....\n",
      "Model Trained.\n"
     ]
    }
   ],
   "source": [
    "print(\"Model Training Started.....\")\n",
    "knn = KNeighborsClassifier(n_neighbors=3,n_jobs=-1)\n",
    "knn.fit(trainX, trainY)\n",
    "print(\"Model Trained.\")"
   ]
  },
  {
   "cell_type": "markdown",
   "metadata": {},
   "source": [
    "### Prediction on test cases"
   ]
  },
  {
   "cell_type": "code",
   "execution_count": 20,
   "metadata": {},
   "outputs": [],
   "source": [
    "predY = knn.predict(testX)"
   ]
  },
  {
   "cell_type": "markdown",
   "metadata": {},
   "source": [
    "### Evaluation Metric = Accuracy\n",
    "The model gives 69.8% Accuracy on the test images from the JAFFE Dataset"
   ]
  },
  {
   "cell_type": "code",
   "execution_count": 21,
   "metadata": {},
   "outputs": [
    {
     "name": "stdout",
     "output_type": "stream",
     "text": [
      "Model test accuracy is:  0.6981132075471698\n"
     ]
    }
   ],
   "source": [
    "accuracy = accuracy_score(testY, predY)\n",
    "print('Model test accuracy is: ', accuracy)"
   ]
  },
  {
   "cell_type": "markdown",
   "metadata": {},
   "source": [
    "### Evaluation Metric = F1 Score\n",
    "The F1 score of the model is 0.5 on the test images from the JAFFE Dataset"
   ]
  },
  {
   "cell_type": "code",
   "execution_count": 22,
   "metadata": {},
   "outputs": [
    {
     "name": "stdout",
     "output_type": "stream",
     "text": [
      "F1 score is:  0.5\n"
     ]
    }
   ],
   "source": [
    "f1score = f1_score(testY, predY)\n",
    "print('F1 score is: ', f1score)"
   ]
  },
  {
   "cell_type": "markdown",
   "metadata": {},
   "source": [
    "# Testing on Joel's private collection\n",
    "### Reading File names"
   ]
  },
  {
   "cell_type": "code",
   "execution_count": 23,
   "metadata": {},
   "outputs": [],
   "source": [
    "joel_test_path_good=os.getcwd()+\"\\\\good_and_bad_moods\\\\test\\\\good\"\n",
    "joel_test_files_good=os.listdir(joel_test_path_good)\n",
    "if 'desktop.ini' in joel_test_files_good:\n",
    "    joel_test_files_good.remove('desktop.ini')\n",
    "\n",
    "joel_test_path_bad=os.getcwd()+\"\\\\good_and_bad_moods\\\\test\\\\bad\"\n",
    "joel_test_files_bad=os.listdir(joel_test_path_bad)\n",
    "if 'desktop.ini' in joel_test_files_bad:\n",
    "    joel_test_files_bad.remove('desktop.ini')"
   ]
  },
  {
   "cell_type": "markdown",
   "metadata": {},
   "source": [
    "### Loading Testing Data from Joel's private collection"
   ]
  },
  {
   "cell_type": "code",
   "execution_count": 24,
   "metadata": {},
   "outputs": [
    {
     "name": "stdout",
     "output_type": "stream",
     "text": [
      "Joel private collection images are =  40\n"
     ]
    }
   ],
   "source": [
    "joel_images=[]\n",
    "joel_labels=[]\n",
    "\n",
    "for file_name in joel_test_files_good:\n",
    "    image=cv2.imread(os.path.join(joel_test_path_good,file_name))\n",
    "    joel_images.append(cv2.resize(rgb2gray(image), size).flatten())\n",
    "    joel_labels.append(1)\n",
    "    \n",
    "for file_name in joel_test_files_bad:\n",
    "    image=cv2.imread(os.path.join(joel_test_path_bad,file_name))\n",
    "    joel_images.append(cv2.resize(rgb2gray(image), size).flatten())\n",
    "    joel_labels.append(0)\n",
    "\n",
    "print(\"Joel private collection images are = \",len(joel_images))"
   ]
  },
  {
   "cell_type": "markdown",
   "metadata": {},
   "source": [
    "### Prediction on Test Data"
   ]
  },
  {
   "cell_type": "code",
   "execution_count": 25,
   "metadata": {},
   "outputs": [],
   "source": [
    "joel_pred = knn.predict(joel_images)"
   ]
  },
  {
   "cell_type": "markdown",
   "metadata": {},
   "source": [
    "### Evaluation Metric = Accuracy\n",
    "The model test accuracy on Joel's private collection is 40%"
   ]
  },
  {
   "cell_type": "code",
   "execution_count": 26,
   "metadata": {},
   "outputs": [
    {
     "name": "stdout",
     "output_type": "stream",
     "text": [
      "Model test accuracy is:  0.4\n"
     ]
    }
   ],
   "source": [
    "accuracy = accuracy_score(joel_labels, joel_pred)\n",
    "print('Model test accuracy is: ', accuracy)"
   ]
  },
  {
   "cell_type": "markdown",
   "metadata": {},
   "source": [
    "### Evaluation Metric = F1 Score\n",
    "The F1 score of the model on joel's private collection is 0.36"
   ]
  },
  {
   "cell_type": "code",
   "execution_count": 27,
   "metadata": {},
   "outputs": [
    {
     "name": "stdout",
     "output_type": "stream",
     "text": [
      "F1 score is:  0.36842105263157887\n"
     ]
    }
   ],
   "source": [
    "f1score = f1_score(joel_labels, joel_pred)\n",
    "print('F1 score is: ', f1score)"
   ]
  },
  {
   "cell_type": "markdown",
   "metadata": {},
   "source": [
    "# Classification on Mix(Fei Face + JAFFE) Dataset\n",
    "## Reading Filenames\n",
    "* os.getcwd() function will get the current working directory\n",
    "* os.listdir() function will get all the file names in a directory"
   ]
  },
  {
   "cell_type": "code",
   "execution_count": 28,
   "metadata": {},
   "outputs": [],
   "source": [
    "#Simply going to the dataset directory and getting all the filenames\n",
    "train_path_good=os.getcwd()+\"\\\\good_and_bad_moods\\\\mix\\\\train\\\\good\"\n",
    "train_files_good=os.listdir(train_path_good)\n",
    "if 'desktop.ini' in train_files_good:\n",
    "    train_files_good.remove('desktop.ini')\n",
    "    \n",
    "train_path_bad=os.getcwd()+\"\\\\good_and_bad_moods\\\\mix\\\\train\\\\bad\"\n",
    "train_files_bad=os.listdir(train_path_bad)\n",
    "if 'desktop.ini' in train_files_bad:\n",
    "    train_files_bad.remove('desktop.ini')\n",
    "    \n",
    "test_path_good=os.getcwd()+\"\\\\good_and_bad_moods\\\\mix\\\\validation\\\\good\"\n",
    "test_files_good=os.listdir(test_path_good)\n",
    "if 'desktop.ini' in test_files_good:\n",
    "    test_files_good.remove('desktop.ini')\n",
    "    \n",
    "test_path_bad=os.getcwd()+\"\\\\good_and_bad_moods\\\\mix\\\\validation\\\\bad\"\n",
    "test_files_bad=os.listdir(test_path_bad)\n",
    "if 'desktop.ini' in test_files_bad:\n",
    "    test_files_bad.remove('desktop.ini')"
   ]
  },
  {
   "cell_type": "markdown",
   "metadata": {},
   "source": [
    "## Initializing Variables\n",
    "* trainX will contain all the training images from Mix (Fei face + JAFFE) Dataset\n",
    "* trainY will contain all the corresponding training labels from Mix (Fei face + JAFFE) Dataset\n",
    "* testX will contain all the testing images from Mix (Fei face + JAFFE) Dataset\n",
    "* testY will contain all the corresponding testing labels from Mix (Fei face + JAFFE) Dataset"
   ]
  },
  {
   "cell_type": "code",
   "execution_count": 29,
   "metadata": {},
   "outputs": [],
   "source": [
    "size=(64, 64)\n",
    "trainX=[]\n",
    "trainY=[]\n",
    "testX=[]\n",
    "testY=[]"
   ]
  },
  {
   "cell_type": "markdown",
   "metadata": {},
   "source": [
    "## Loading Training and Testing Data of MIX ( Fei Face + JAFFE) Dataset\n",
    "### The following steps are being done in the following code cell\n",
    "* Reading the image through cv2.imread() function as we already have the path to the files calculated above\n",
    "* Converting the rgb image to grey scale\n",
    "* Resizing the image to 64 x 64\n",
    "* Flattening it to get a single dimension\n",
    "* Appending it in the corresponding list"
   ]
  },
  {
   "cell_type": "code",
   "execution_count": 30,
   "metadata": {},
   "outputs": [],
   "source": [
    "for file_name in train_files_good:\n",
    "    image=cv2.imread(os.path.join(train_path_good,file_name))\n",
    "    trainX.append(cv2.resize(rgb2gray(image), size).flatten())\n",
    "    trainY.append(1)\n",
    "    \n",
    "for file_name in train_files_bad:\n",
    "    image=cv2.imread(os.path.join(train_path_bad,file_name))\n",
    "    trainX.append(cv2.resize(rgb2gray(image), size).flatten())\n",
    "    trainY.append(0)\n",
    "    \n",
    "for file_name in test_files_good:\n",
    "    image=cv2.imread(os.path.join(test_path_good,file_name))\n",
    "    testX.append(cv2.resize(rgb2gray(image), size).flatten())\n",
    "    testY.append(1)\n",
    "    \n",
    "for file_name in test_files_bad:\n",
    "    image=cv2.imread(os.path.join(test_path_bad,file_name))\n",
    "    testX.append(cv2.resize(rgb2gray(image), size).flatten())\n",
    "    testY.append(0)"
   ]
  },
  {
   "cell_type": "markdown",
   "metadata": {},
   "source": [
    "## Training and Testing Images"
   ]
  },
  {
   "cell_type": "code",
   "execution_count": 31,
   "metadata": {},
   "outputs": [
    {
     "name": "stdout",
     "output_type": "stream",
     "text": [
      "Training images are =  465\n",
      "Testing images are =  154\n"
     ]
    }
   ],
   "source": [
    "print(\"Training images are = \",len(trainX))\n",
    "print(\"Testing images are = \",len(testX))"
   ]
  },
  {
   "cell_type": "markdown",
   "metadata": {},
   "source": [
    "## K Nearest Neighbour Classifier\n",
    "### Number of Neighbours were set to 3\n",
    "After training the classifier for different number of neighbours. The neighbours with 3 value gave the best result"
   ]
  },
  {
   "cell_type": "code",
   "execution_count": 32,
   "metadata": {},
   "outputs": [
    {
     "name": "stdout",
     "output_type": "stream",
     "text": [
      "Model Training Started.....\n",
      "Model Trained.\n"
     ]
    }
   ],
   "source": [
    "print(\"Model Training Started.....\")\n",
    "knn = KNeighborsClassifier(n_neighbors=3,n_jobs=-1)\n",
    "knn.fit(trainX, trainY)\n",
    "print(\"Model Trained.\")"
   ]
  },
  {
   "cell_type": "markdown",
   "metadata": {},
   "source": [
    "### Prediction on test cases"
   ]
  },
  {
   "cell_type": "code",
   "execution_count": 33,
   "metadata": {},
   "outputs": [],
   "source": [
    "predY = knn.predict(testX)"
   ]
  },
  {
   "cell_type": "markdown",
   "metadata": {},
   "source": [
    "### Evaluation Metric = Accuracy\n",
    "The model gives 81.8% Accuracy on the test images from the Mix (Fei face + JAFFE) Dataset"
   ]
  },
  {
   "cell_type": "code",
   "execution_count": 34,
   "metadata": {},
   "outputs": [
    {
     "name": "stdout",
     "output_type": "stream",
     "text": [
      "Model test accuracy is:  0.8181818181818182\n"
     ]
    }
   ],
   "source": [
    "accuracy = accuracy_score(testY, predY)\n",
    "print('Model test accuracy is: ', accuracy)"
   ]
  },
  {
   "cell_type": "markdown",
   "metadata": {},
   "source": [
    "### Evaluation Metric = F1 Score\n",
    "The F1 score of the model is 0.77 on the test images from the Mix (Fei face + JAFFE) Dataset"
   ]
  },
  {
   "cell_type": "code",
   "execution_count": 35,
   "metadata": {},
   "outputs": [
    {
     "name": "stdout",
     "output_type": "stream",
     "text": [
      "F1 score is:  0.7777777777777778\n"
     ]
    }
   ],
   "source": [
    "f1score = f1_score(testY, predY)\n",
    "print('F1 score is: ', f1score)"
   ]
  },
  {
   "cell_type": "markdown",
   "metadata": {},
   "source": [
    "# Testing on Joel's private collection\n",
    "### Reading File names"
   ]
  },
  {
   "cell_type": "code",
   "execution_count": 36,
   "metadata": {},
   "outputs": [],
   "source": [
    "joel_test_path_good=os.getcwd()+\"\\\\good_and_bad_moods\\\\test\\\\good\"\n",
    "joel_test_files_good=os.listdir(joel_test_path_good)\n",
    "if 'desktop.ini' in joel_test_files_good:\n",
    "    joel_test_files_good.remove('desktop.ini')\n",
    "\n",
    "joel_test_path_bad=os.getcwd()+\"\\\\good_and_bad_moods\\\\test\\\\bad\"\n",
    "joel_test_files_bad=os.listdir(joel_test_path_bad)\n",
    "if 'desktop.ini' in joel_test_files_bad:\n",
    "    joel_test_files_bad.remove('desktop.ini')"
   ]
  },
  {
   "cell_type": "markdown",
   "metadata": {},
   "source": [
    "### Loading Testing Data from Joel's private collection"
   ]
  },
  {
   "cell_type": "code",
   "execution_count": 37,
   "metadata": {},
   "outputs": [
    {
     "name": "stdout",
     "output_type": "stream",
     "text": [
      "Joel private collection images are =  40\n"
     ]
    }
   ],
   "source": [
    "joel_images=[]\n",
    "joel_labels=[]\n",
    "\n",
    "for file_name in joel_test_files_good:\n",
    "    image=cv2.imread(os.path.join(joel_test_path_good,file_name))\n",
    "    joel_images.append(cv2.resize(rgb2gray(image), size).flatten())\n",
    "    joel_labels.append(1)\n",
    "    \n",
    "for file_name in joel_test_files_bad:\n",
    "    image=cv2.imread(os.path.join(joel_test_path_bad,file_name))\n",
    "    joel_images.append(cv2.resize(rgb2gray(image), size).flatten())\n",
    "    joel_labels.append(0)\n",
    "\n",
    "print(\"Joel private collection images are = \",len(joel_images))"
   ]
  },
  {
   "cell_type": "markdown",
   "metadata": {},
   "source": [
    "### Prediction on Test Data"
   ]
  },
  {
   "cell_type": "code",
   "execution_count": 38,
   "metadata": {},
   "outputs": [],
   "source": [
    "joel_pred = knn.predict(joel_images)"
   ]
  },
  {
   "cell_type": "markdown",
   "metadata": {},
   "source": [
    "### Evaluation Metric = Accuracy\n",
    "The model test accuracy on Joel's private collection is 42.5%"
   ]
  },
  {
   "cell_type": "code",
   "execution_count": 39,
   "metadata": {},
   "outputs": [
    {
     "name": "stdout",
     "output_type": "stream",
     "text": [
      "Model test accuracy is:  0.425\n"
     ]
    }
   ],
   "source": [
    "accuracy = accuracy_score(joel_labels, joel_pred)\n",
    "print('Model test accuracy is: ', accuracy)"
   ]
  },
  {
   "cell_type": "markdown",
   "metadata": {},
   "source": [
    "### Evaluation Metric = F1 Score\n",
    "The F1 score of the model on joel's private collection is 0.41"
   ]
  },
  {
   "cell_type": "code",
   "execution_count": 40,
   "metadata": {},
   "outputs": [
    {
     "name": "stdout",
     "output_type": "stream",
     "text": [
      "F1 score is:  0.41025641025641024\n"
     ]
    }
   ],
   "source": [
    "f1score = f1_score(joel_labels, joel_pred)\n",
    "print('F1 score is: ', f1score)"
   ]
  },
  {
   "cell_type": "markdown",
   "metadata": {},
   "source": [
    "# Comparison\n",
    "K Nearest Neightbour was used and following table represents the execution on the Joel's private collection images which were the testing images.\n",
    "\n",
    "| Dataset | Accuracy | F1 Score |\n",
    "| --- | --- | --- |\n",
    "| Fei Face | 62.5% | 0.68 |\n",
    "| JAFFE | 40% | 0.36 |\n",
    "| Mix (Fei Face + JAFFE) | 42.5% | 0.41 |"
   ]
  },
  {
   "cell_type": "code",
   "execution_count": null,
   "metadata": {},
   "outputs": [],
   "source": []
  }
 ],
 "metadata": {
  "kernelspec": {
   "display_name": "Python 3",
   "language": "python",
   "name": "python3"
  },
  "language_info": {
   "codemirror_mode": {
    "name": "ipython",
    "version": 3
   },
   "file_extension": ".py",
   "mimetype": "text/x-python",
   "name": "python",
   "nbconvert_exporter": "python",
   "pygments_lexer": "ipython3",
   "version": "3.6.8"
  }
 },
 "nbformat": 4,
 "nbformat_minor": 2
}
